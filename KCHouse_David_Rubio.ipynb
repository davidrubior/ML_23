{
  "nbformat": 4,
  "nbformat_minor": 0,
  "metadata": {
    "colab": {
      "provenance": [],
      "authorship_tag": "ABX9TyPI6lShc7za1qBTAj0Tfgc/",
      "include_colab_link": true
    },
    "kernelspec": {
      "name": "python3",
      "display_name": "Python 3"
    },
    "language_info": {
      "name": "python"
    }
  },
  "cells": [
    {
      "cell_type": "markdown",
      "metadata": {
        "id": "view-in-github",
        "colab_type": "text"
      },
      "source": [
        "<a href=\"https://colab.research.google.com/github/davidrubior/ML_23/blob/main/KCHouse_David_Rubio.ipynb\" target=\"_parent\"><img src=\"https://colab.research.google.com/assets/colab-badge.svg\" alt=\"Open In Colab\"/></a>"
      ]
    },
    {
      "cell_type": "markdown",
      "source": [
        "# Análisis exploratorio "
      ],
      "metadata": {
        "id": "EtzuLi4ohZ2l"
      }
    },
    {
      "cell_type": "code",
      "source": [
        "import numpy as np\n",
        "import pandas as pd\n",
        "import matplotlib.pyplot as plt\n",
        "import seaborn as sns\n",
        "import math\n",
        "from sklearn.model_selection import train_test_split\n",
        "from scipy.stats import kurtosis\n",
        "from sklearn.preprocessing import StandardScaler\n",
        "from sklearn.decomposition import PCA\n",
        "from sklearn.metrics import r2_score, mean_squared_error\n",
        "from sklearn.model_selection import GridSearchCV"
      ],
      "metadata": {
        "id": "zg4S4FJmhhE4"
      },
      "execution_count": null,
      "outputs": []
    },
    {
      "cell_type": "code",
      "source": [
        "data_orig = pd.read_csv('kc_house_data.csv', index_col='id')\n",
        "data_orig.head()"
      ],
      "metadata": {
        "colab": {
          "base_uri": "https://localhost:8080/",
          "height": 301
        },
        "id": "nz9D6aHkiVvE",
        "outputId": "050b6a39-87b8-45df-b1e1-db62bec872a0"
      },
      "execution_count": null,
      "outputs": [
        {
          "output_type": "execute_result",
          "data": {
            "text/plain": [
              "                       date     price  bedrooms  bathrooms  sqft_living  \\\n",
              "id                                                                        \n",
              "7129300520  20141013T000000  221900.0         3       1.00         1180   \n",
              "6414100192  20141209T000000  538000.0         3       2.25         2570   \n",
              "5631500400  20150225T000000  180000.0         2       1.00          770   \n",
              "2487200875  20141209T000000  604000.0         4       3.00         1960   \n",
              "1954400510  20150218T000000  510000.0         3       2.00         1680   \n",
              "\n",
              "            sqft_lot  floors  waterfront  view  condition  grade  sqft_above  \\\n",
              "id                                                                             \n",
              "7129300520      5650     1.0           0     0          3      7        1180   \n",
              "6414100192      7242     2.0           0     0          3      7        2170   \n",
              "5631500400     10000     1.0           0     0          3      6         770   \n",
              "2487200875      5000     1.0           0     0          5      7        1050   \n",
              "1954400510      8080     1.0           0     0          3      8        1680   \n",
              "\n",
              "            sqft_basement  yr_built  yr_renovated  zipcode      lat     long  \\\n",
              "id                                                                             \n",
              "7129300520              0      1955             0    98178  47.5112 -122.257   \n",
              "6414100192            400      1951          1991    98125  47.7210 -122.319   \n",
              "5631500400              0      1933             0    98028  47.7379 -122.233   \n",
              "2487200875            910      1965             0    98136  47.5208 -122.393   \n",
              "1954400510              0      1987             0    98074  47.6168 -122.045   \n",
              "\n",
              "            sqft_living15  sqft_lot15  \n",
              "id                                     \n",
              "7129300520           1340        5650  \n",
              "6414100192           1690        7639  \n",
              "5631500400           2720        8062  \n",
              "2487200875           1360        5000  \n",
              "1954400510           1800        7503  "
            ],
            "text/html": [
              "\n",
              "  <div id=\"df-f58a9c3e-0625-406c-a5bc-f04bf62a9d21\">\n",
              "    <div class=\"colab-df-container\">\n",
              "      <div>\n",
              "<style scoped>\n",
              "    .dataframe tbody tr th:only-of-type {\n",
              "        vertical-align: middle;\n",
              "    }\n",
              "\n",
              "    .dataframe tbody tr th {\n",
              "        vertical-align: top;\n",
              "    }\n",
              "\n",
              "    .dataframe thead th {\n",
              "        text-align: right;\n",
              "    }\n",
              "</style>\n",
              "<table border=\"1\" class=\"dataframe\">\n",
              "  <thead>\n",
              "    <tr style=\"text-align: right;\">\n",
              "      <th></th>\n",
              "      <th>date</th>\n",
              "      <th>price</th>\n",
              "      <th>bedrooms</th>\n",
              "      <th>bathrooms</th>\n",
              "      <th>sqft_living</th>\n",
              "      <th>sqft_lot</th>\n",
              "      <th>floors</th>\n",
              "      <th>waterfront</th>\n",
              "      <th>view</th>\n",
              "      <th>condition</th>\n",
              "      <th>grade</th>\n",
              "      <th>sqft_above</th>\n",
              "      <th>sqft_basement</th>\n",
              "      <th>yr_built</th>\n",
              "      <th>yr_renovated</th>\n",
              "      <th>zipcode</th>\n",
              "      <th>lat</th>\n",
              "      <th>long</th>\n",
              "      <th>sqft_living15</th>\n",
              "      <th>sqft_lot15</th>\n",
              "    </tr>\n",
              "    <tr>\n",
              "      <th>id</th>\n",
              "      <th></th>\n",
              "      <th></th>\n",
              "      <th></th>\n",
              "      <th></th>\n",
              "      <th></th>\n",
              "      <th></th>\n",
              "      <th></th>\n",
              "      <th></th>\n",
              "      <th></th>\n",
              "      <th></th>\n",
              "      <th></th>\n",
              "      <th></th>\n",
              "      <th></th>\n",
              "      <th></th>\n",
              "      <th></th>\n",
              "      <th></th>\n",
              "      <th></th>\n",
              "      <th></th>\n",
              "      <th></th>\n",
              "      <th></th>\n",
              "    </tr>\n",
              "  </thead>\n",
              "  <tbody>\n",
              "    <tr>\n",
              "      <th>7129300520</th>\n",
              "      <td>20141013T000000</td>\n",
              "      <td>221900.0</td>\n",
              "      <td>3</td>\n",
              "      <td>1.00</td>\n",
              "      <td>1180</td>\n",
              "      <td>5650</td>\n",
              "      <td>1.0</td>\n",
              "      <td>0</td>\n",
              "      <td>0</td>\n",
              "      <td>3</td>\n",
              "      <td>7</td>\n",
              "      <td>1180</td>\n",
              "      <td>0</td>\n",
              "      <td>1955</td>\n",
              "      <td>0</td>\n",
              "      <td>98178</td>\n",
              "      <td>47.5112</td>\n",
              "      <td>-122.257</td>\n",
              "      <td>1340</td>\n",
              "      <td>5650</td>\n",
              "    </tr>\n",
              "    <tr>\n",
              "      <th>6414100192</th>\n",
              "      <td>20141209T000000</td>\n",
              "      <td>538000.0</td>\n",
              "      <td>3</td>\n",
              "      <td>2.25</td>\n",
              "      <td>2570</td>\n",
              "      <td>7242</td>\n",
              "      <td>2.0</td>\n",
              "      <td>0</td>\n",
              "      <td>0</td>\n",
              "      <td>3</td>\n",
              "      <td>7</td>\n",
              "      <td>2170</td>\n",
              "      <td>400</td>\n",
              "      <td>1951</td>\n",
              "      <td>1991</td>\n",
              "      <td>98125</td>\n",
              "      <td>47.7210</td>\n",
              "      <td>-122.319</td>\n",
              "      <td>1690</td>\n",
              "      <td>7639</td>\n",
              "    </tr>\n",
              "    <tr>\n",
              "      <th>5631500400</th>\n",
              "      <td>20150225T000000</td>\n",
              "      <td>180000.0</td>\n",
              "      <td>2</td>\n",
              "      <td>1.00</td>\n",
              "      <td>770</td>\n",
              "      <td>10000</td>\n",
              "      <td>1.0</td>\n",
              "      <td>0</td>\n",
              "      <td>0</td>\n",
              "      <td>3</td>\n",
              "      <td>6</td>\n",
              "      <td>770</td>\n",
              "      <td>0</td>\n",
              "      <td>1933</td>\n",
              "      <td>0</td>\n",
              "      <td>98028</td>\n",
              "      <td>47.7379</td>\n",
              "      <td>-122.233</td>\n",
              "      <td>2720</td>\n",
              "      <td>8062</td>\n",
              "    </tr>\n",
              "    <tr>\n",
              "      <th>2487200875</th>\n",
              "      <td>20141209T000000</td>\n",
              "      <td>604000.0</td>\n",
              "      <td>4</td>\n",
              "      <td>3.00</td>\n",
              "      <td>1960</td>\n",
              "      <td>5000</td>\n",
              "      <td>1.0</td>\n",
              "      <td>0</td>\n",
              "      <td>0</td>\n",
              "      <td>5</td>\n",
              "      <td>7</td>\n",
              "      <td>1050</td>\n",
              "      <td>910</td>\n",
              "      <td>1965</td>\n",
              "      <td>0</td>\n",
              "      <td>98136</td>\n",
              "      <td>47.5208</td>\n",
              "      <td>-122.393</td>\n",
              "      <td>1360</td>\n",
              "      <td>5000</td>\n",
              "    </tr>\n",
              "    <tr>\n",
              "      <th>1954400510</th>\n",
              "      <td>20150218T000000</td>\n",
              "      <td>510000.0</td>\n",
              "      <td>3</td>\n",
              "      <td>2.00</td>\n",
              "      <td>1680</td>\n",
              "      <td>8080</td>\n",
              "      <td>1.0</td>\n",
              "      <td>0</td>\n",
              "      <td>0</td>\n",
              "      <td>3</td>\n",
              "      <td>8</td>\n",
              "      <td>1680</td>\n",
              "      <td>0</td>\n",
              "      <td>1987</td>\n",
              "      <td>0</td>\n",
              "      <td>98074</td>\n",
              "      <td>47.6168</td>\n",
              "      <td>-122.045</td>\n",
              "      <td>1800</td>\n",
              "      <td>7503</td>\n",
              "    </tr>\n",
              "  </tbody>\n",
              "</table>\n",
              "</div>\n",
              "      <button class=\"colab-df-convert\" onclick=\"convertToInteractive('df-f58a9c3e-0625-406c-a5bc-f04bf62a9d21')\"\n",
              "              title=\"Convert this dataframe to an interactive table.\"\n",
              "              style=\"display:none;\">\n",
              "        \n",
              "  <svg xmlns=\"http://www.w3.org/2000/svg\" height=\"24px\"viewBox=\"0 0 24 24\"\n",
              "       width=\"24px\">\n",
              "    <path d=\"M0 0h24v24H0V0z\" fill=\"none\"/>\n",
              "    <path d=\"M18.56 5.44l.94 2.06.94-2.06 2.06-.94-2.06-.94-.94-2.06-.94 2.06-2.06.94zm-11 1L8.5 8.5l.94-2.06 2.06-.94-2.06-.94L8.5 2.5l-.94 2.06-2.06.94zm10 10l.94 2.06.94-2.06 2.06-.94-2.06-.94-.94-2.06-.94 2.06-2.06.94z\"/><path d=\"M17.41 7.96l-1.37-1.37c-.4-.4-.92-.59-1.43-.59-.52 0-1.04.2-1.43.59L10.3 9.45l-7.72 7.72c-.78.78-.78 2.05 0 2.83L4 21.41c.39.39.9.59 1.41.59.51 0 1.02-.2 1.41-.59l7.78-7.78 2.81-2.81c.8-.78.8-2.07 0-2.86zM5.41 20L4 18.59l7.72-7.72 1.47 1.35L5.41 20z\"/>\n",
              "  </svg>\n",
              "      </button>\n",
              "      \n",
              "  <style>\n",
              "    .colab-df-container {\n",
              "      display:flex;\n",
              "      flex-wrap:wrap;\n",
              "      gap: 12px;\n",
              "    }\n",
              "\n",
              "    .colab-df-convert {\n",
              "      background-color: #E8F0FE;\n",
              "      border: none;\n",
              "      border-radius: 50%;\n",
              "      cursor: pointer;\n",
              "      display: none;\n",
              "      fill: #1967D2;\n",
              "      height: 32px;\n",
              "      padding: 0 0 0 0;\n",
              "      width: 32px;\n",
              "    }\n",
              "\n",
              "    .colab-df-convert:hover {\n",
              "      background-color: #E2EBFA;\n",
              "      box-shadow: 0px 1px 2px rgba(60, 64, 67, 0.3), 0px 1px 3px 1px rgba(60, 64, 67, 0.15);\n",
              "      fill: #174EA6;\n",
              "    }\n",
              "\n",
              "    [theme=dark] .colab-df-convert {\n",
              "      background-color: #3B4455;\n",
              "      fill: #D2E3FC;\n",
              "    }\n",
              "\n",
              "    [theme=dark] .colab-df-convert:hover {\n",
              "      background-color: #434B5C;\n",
              "      box-shadow: 0px 1px 3px 1px rgba(0, 0, 0, 0.15);\n",
              "      filter: drop-shadow(0px 1px 2px rgba(0, 0, 0, 0.3));\n",
              "      fill: #FFFFFF;\n",
              "    }\n",
              "  </style>\n",
              "\n",
              "      <script>\n",
              "        const buttonEl =\n",
              "          document.querySelector('#df-f58a9c3e-0625-406c-a5bc-f04bf62a9d21 button.colab-df-convert');\n",
              "        buttonEl.style.display =\n",
              "          google.colab.kernel.accessAllowed ? 'block' : 'none';\n",
              "\n",
              "        async function convertToInteractive(key) {\n",
              "          const element = document.querySelector('#df-f58a9c3e-0625-406c-a5bc-f04bf62a9d21');\n",
              "          const dataTable =\n",
              "            await google.colab.kernel.invokeFunction('convertToInteractive',\n",
              "                                                     [key], {});\n",
              "          if (!dataTable) return;\n",
              "\n",
              "          const docLinkHtml = 'Like what you see? Visit the ' +\n",
              "            '<a target=\"_blank\" href=https://colab.research.google.com/notebooks/data_table.ipynb>data table notebook</a>'\n",
              "            + ' to learn more about interactive tables.';\n",
              "          element.innerHTML = '';\n",
              "          dataTable['output_type'] = 'display_data';\n",
              "          await google.colab.output.renderOutput(dataTable, element);\n",
              "          const docLink = document.createElement('div');\n",
              "          docLink.innerHTML = docLinkHtml;\n",
              "          element.appendChild(docLink);\n",
              "        }\n",
              "      </script>\n",
              "    </div>\n",
              "  </div>\n",
              "  "
            ]
          },
          "metadata": {},
          "execution_count": 43
        }
      ]
    },
    {
      "cell_type": "code",
      "source": [
        "data = data_orig.copy()\n",
        "data['date'] = pd.to_datetime(data['date'])"
      ],
      "metadata": {
        "id": "Ophwru_9iVxy"
      },
      "execution_count": null,
      "outputs": []
    },
    {
      "cell_type": "code",
      "source": [
        "print(np.sort(data['view'].unique()))\n",
        "print(np.sort(data['condition'].unique()))\n",
        "print(np.sort(data['grade'].unique()))"
      ],
      "metadata": {
        "colab": {
          "base_uri": "https://localhost:8080/"
        },
        "id": "Pf86DCBuqZ-O",
        "outputId": "cb9bcad1-4219-48ff-f1d6-2a44f3fe1981"
      },
      "execution_count": null,
      "outputs": [
        {
          "output_type": "stream",
          "name": "stdout",
          "text": [
            "[0 1 2 3 4]\n",
            "[1 2 3 4 5]\n",
            "[ 1  3  4  5  6  7  8  9 10 11 12 13]\n"
          ]
        }
      ]
    },
    {
      "cell_type": "code",
      "source": [
        "data.info()"
      ],
      "metadata": {
        "colab": {
          "base_uri": "https://localhost:8080/"
        },
        "id": "qHiVtLUhpZyN",
        "outputId": "b97c232a-e42b-4ea1-88d0-9499b8c4cdf9"
      },
      "execution_count": null,
      "outputs": [
        {
          "output_type": "stream",
          "name": "stdout",
          "text": [
            "<class 'pandas.core.frame.DataFrame'>\n",
            "Int64Index: 21613 entries, 7129300520 to 1523300157\n",
            "Data columns (total 20 columns):\n",
            " #   Column         Non-Null Count  Dtype         \n",
            "---  ------         --------------  -----         \n",
            " 0   date           21613 non-null  datetime64[ns]\n",
            " 1   price          21613 non-null  float64       \n",
            " 2   bedrooms       21613 non-null  int64         \n",
            " 3   bathrooms      21613 non-null  float64       \n",
            " 4   sqft_living    21613 non-null  int64         \n",
            " 5   sqft_lot       21613 non-null  int64         \n",
            " 6   floors         21613 non-null  float64       \n",
            " 7   waterfront     21613 non-null  int64         \n",
            " 8   view           21613 non-null  int64         \n",
            " 9   condition      21613 non-null  int64         \n",
            " 10  grade          21613 non-null  int64         \n",
            " 11  sqft_above     21613 non-null  int64         \n",
            " 12  sqft_basement  21613 non-null  int64         \n",
            " 13  yr_built       21613 non-null  int64         \n",
            " 14  yr_renovated   21613 non-null  int64         \n",
            " 15  zipcode        21613 non-null  int64         \n",
            " 16  lat            21613 non-null  float64       \n",
            " 17  long           21613 non-null  float64       \n",
            " 18  sqft_living15  21613 non-null  int64         \n",
            " 19  sqft_lot15     21613 non-null  int64         \n",
            "dtypes: datetime64[ns](1), float64(5), int64(14)\n",
            "memory usage: 3.5 MB\n"
          ]
        }
      ]
    },
    {
      "cell_type": "code",
      "source": [
        "sum(data.duplicated())"
      ],
      "metadata": {
        "colab": {
          "base_uri": "https://localhost:8080/"
        },
        "id": "L6fjt6DU0c4P",
        "outputId": "89326f4e-b1de-4741-88d3-05b5b450a871"
      },
      "execution_count": null,
      "outputs": [
        {
          "output_type": "execute_result",
          "data": {
            "text/plain": [
              "0"
            ]
          },
          "metadata": {},
          "execution_count": 47
        }
      ]
    },
    {
      "cell_type": "markdown",
      "source": [
        "No hay missings ni duplicados y todos los tipos son ahora correctos.\n",
        "\n",
        "Las variables en pies cuadrados no se van a transformar a metros cuadrados, no afecta al modelo."
      ],
      "metadata": {
        "id": "NZ5pUom4pcdr"
      }
    },
    {
      "cell_type": "code",
      "source": [
        "train, test = train_test_split(data, test_size=0.2, random_state=23)\n",
        "x_train = train.drop(['price', 'date'], axis=1) #no voy a usar la fecha para modelar\n",
        "y_train = train['price']"
      ],
      "metadata": {
        "id": "4VEOzNIQaASX"
      },
      "execution_count": null,
      "outputs": []
    },
    {
      "cell_type": "code",
      "source": [
        "x_train.drop('zipcode', axis=1).describe()"
      ],
      "metadata": {
        "colab": {
          "base_uri": "https://localhost:8080/",
          "height": 364
        },
        "id": "N8SGNxFkhlnL",
        "outputId": "2bbe380a-175b-4442-cd2d-da57ec942671"
      },
      "execution_count": null,
      "outputs": [
        {
          "output_type": "execute_result",
          "data": {
            "text/plain": [
              "           bedrooms     bathrooms   sqft_living      sqft_lot        floors  \\\n",
              "count  17290.000000  17290.000000  17290.000000  1.729000e+04  17290.000000   \n",
              "mean       3.373279      2.114546   2077.570619  1.532745e+04      1.491151   \n",
              "std        0.934579      0.772849    922.358292  4.340483e+04      0.537997   \n",
              "min        0.000000      0.000000    370.000000  5.200000e+02      1.000000   \n",
              "25%        3.000000      1.750000   1420.000000  5.043000e+03      1.000000   \n",
              "50%        3.000000      2.250000   1910.000000  7.622500e+03      1.500000   \n",
              "75%        4.000000      2.500000   2550.000000  1.070600e+04      2.000000   \n",
              "max       33.000000      8.000000  13540.000000  1.651359e+06      3.500000   \n",
              "\n",
              "         waterfront          view     condition         grade    sqft_above  \\\n",
              "count  17290.000000  17290.000000  17290.000000  17290.000000  17290.000000   \n",
              "mean       0.007981      0.240197      3.410526      7.652747   1785.576518   \n",
              "std        0.088985      0.775793      0.651666      1.172128    828.004089   \n",
              "min        0.000000      0.000000      1.000000      3.000000    370.000000   \n",
              "25%        0.000000      0.000000      3.000000      7.000000   1190.000000   \n",
              "50%        0.000000      0.000000      3.000000      7.000000   1560.000000   \n",
              "75%        0.000000      0.000000      4.000000      8.000000   2200.000000   \n",
              "max        1.000000      4.000000      5.000000     13.000000   9410.000000   \n",
              "\n",
              "       sqft_basement      yr_built  yr_renovated           lat          long  \\\n",
              "count   17290.000000  17290.000000  17290.000000  17290.000000  17290.000000   \n",
              "mean      291.994101   1970.840659     85.781377     47.559716   -122.214097   \n",
              "std       443.035462     29.358172    404.840807      0.138625      0.141252   \n",
              "min         0.000000   1900.000000      0.000000     47.155900   -122.519000   \n",
              "25%         0.000000   1951.000000      0.000000     47.470625   -122.328000   \n",
              "50%         0.000000   1974.000000      0.000000     47.571100   -122.231000   \n",
              "75%       560.000000   1996.000000      0.000000     47.677900   -122.126000   \n",
              "max      4820.000000   2015.000000   2015.000000     47.777600   -121.315000   \n",
              "\n",
              "       sqft_living15     sqft_lot15  \n",
              "count   17290.000000   17290.000000  \n",
              "mean     1983.628398   12857.660497  \n",
              "std       684.705308   27978.717559  \n",
              "min       399.000000     651.000000  \n",
              "25%      1485.500000    5100.000000  \n",
              "50%      1830.000000    7622.500000  \n",
              "75%      2360.000000   10101.750000  \n",
              "max      6210.000000  871200.000000  "
            ],
            "text/html": [
              "\n",
              "  <div id=\"df-5ca04c6e-cd0c-4e3e-a2fc-fb30382c4f35\">\n",
              "    <div class=\"colab-df-container\">\n",
              "      <div>\n",
              "<style scoped>\n",
              "    .dataframe tbody tr th:only-of-type {\n",
              "        vertical-align: middle;\n",
              "    }\n",
              "\n",
              "    .dataframe tbody tr th {\n",
              "        vertical-align: top;\n",
              "    }\n",
              "\n",
              "    .dataframe thead th {\n",
              "        text-align: right;\n",
              "    }\n",
              "</style>\n",
              "<table border=\"1\" class=\"dataframe\">\n",
              "  <thead>\n",
              "    <tr style=\"text-align: right;\">\n",
              "      <th></th>\n",
              "      <th>bedrooms</th>\n",
              "      <th>bathrooms</th>\n",
              "      <th>sqft_living</th>\n",
              "      <th>sqft_lot</th>\n",
              "      <th>floors</th>\n",
              "      <th>waterfront</th>\n",
              "      <th>view</th>\n",
              "      <th>condition</th>\n",
              "      <th>grade</th>\n",
              "      <th>sqft_above</th>\n",
              "      <th>sqft_basement</th>\n",
              "      <th>yr_built</th>\n",
              "      <th>yr_renovated</th>\n",
              "      <th>lat</th>\n",
              "      <th>long</th>\n",
              "      <th>sqft_living15</th>\n",
              "      <th>sqft_lot15</th>\n",
              "    </tr>\n",
              "  </thead>\n",
              "  <tbody>\n",
              "    <tr>\n",
              "      <th>count</th>\n",
              "      <td>17290.000000</td>\n",
              "      <td>17290.000000</td>\n",
              "      <td>17290.000000</td>\n",
              "      <td>1.729000e+04</td>\n",
              "      <td>17290.000000</td>\n",
              "      <td>17290.000000</td>\n",
              "      <td>17290.000000</td>\n",
              "      <td>17290.000000</td>\n",
              "      <td>17290.000000</td>\n",
              "      <td>17290.000000</td>\n",
              "      <td>17290.000000</td>\n",
              "      <td>17290.000000</td>\n",
              "      <td>17290.000000</td>\n",
              "      <td>17290.000000</td>\n",
              "      <td>17290.000000</td>\n",
              "      <td>17290.000000</td>\n",
              "      <td>17290.000000</td>\n",
              "    </tr>\n",
              "    <tr>\n",
              "      <th>mean</th>\n",
              "      <td>3.373279</td>\n",
              "      <td>2.114546</td>\n",
              "      <td>2077.570619</td>\n",
              "      <td>1.532745e+04</td>\n",
              "      <td>1.491151</td>\n",
              "      <td>0.007981</td>\n",
              "      <td>0.240197</td>\n",
              "      <td>3.410526</td>\n",
              "      <td>7.652747</td>\n",
              "      <td>1785.576518</td>\n",
              "      <td>291.994101</td>\n",
              "      <td>1970.840659</td>\n",
              "      <td>85.781377</td>\n",
              "      <td>47.559716</td>\n",
              "      <td>-122.214097</td>\n",
              "      <td>1983.628398</td>\n",
              "      <td>12857.660497</td>\n",
              "    </tr>\n",
              "    <tr>\n",
              "      <th>std</th>\n",
              "      <td>0.934579</td>\n",
              "      <td>0.772849</td>\n",
              "      <td>922.358292</td>\n",
              "      <td>4.340483e+04</td>\n",
              "      <td>0.537997</td>\n",
              "      <td>0.088985</td>\n",
              "      <td>0.775793</td>\n",
              "      <td>0.651666</td>\n",
              "      <td>1.172128</td>\n",
              "      <td>828.004089</td>\n",
              "      <td>443.035462</td>\n",
              "      <td>29.358172</td>\n",
              "      <td>404.840807</td>\n",
              "      <td>0.138625</td>\n",
              "      <td>0.141252</td>\n",
              "      <td>684.705308</td>\n",
              "      <td>27978.717559</td>\n",
              "    </tr>\n",
              "    <tr>\n",
              "      <th>min</th>\n",
              "      <td>0.000000</td>\n",
              "      <td>0.000000</td>\n",
              "      <td>370.000000</td>\n",
              "      <td>5.200000e+02</td>\n",
              "      <td>1.000000</td>\n",
              "      <td>0.000000</td>\n",
              "      <td>0.000000</td>\n",
              "      <td>1.000000</td>\n",
              "      <td>3.000000</td>\n",
              "      <td>370.000000</td>\n",
              "      <td>0.000000</td>\n",
              "      <td>1900.000000</td>\n",
              "      <td>0.000000</td>\n",
              "      <td>47.155900</td>\n",
              "      <td>-122.519000</td>\n",
              "      <td>399.000000</td>\n",
              "      <td>651.000000</td>\n",
              "    </tr>\n",
              "    <tr>\n",
              "      <th>25%</th>\n",
              "      <td>3.000000</td>\n",
              "      <td>1.750000</td>\n",
              "      <td>1420.000000</td>\n",
              "      <td>5.043000e+03</td>\n",
              "      <td>1.000000</td>\n",
              "      <td>0.000000</td>\n",
              "      <td>0.000000</td>\n",
              "      <td>3.000000</td>\n",
              "      <td>7.000000</td>\n",
              "      <td>1190.000000</td>\n",
              "      <td>0.000000</td>\n",
              "      <td>1951.000000</td>\n",
              "      <td>0.000000</td>\n",
              "      <td>47.470625</td>\n",
              "      <td>-122.328000</td>\n",
              "      <td>1485.500000</td>\n",
              "      <td>5100.000000</td>\n",
              "    </tr>\n",
              "    <tr>\n",
              "      <th>50%</th>\n",
              "      <td>3.000000</td>\n",
              "      <td>2.250000</td>\n",
              "      <td>1910.000000</td>\n",
              "      <td>7.622500e+03</td>\n",
              "      <td>1.500000</td>\n",
              "      <td>0.000000</td>\n",
              "      <td>0.000000</td>\n",
              "      <td>3.000000</td>\n",
              "      <td>7.000000</td>\n",
              "      <td>1560.000000</td>\n",
              "      <td>0.000000</td>\n",
              "      <td>1974.000000</td>\n",
              "      <td>0.000000</td>\n",
              "      <td>47.571100</td>\n",
              "      <td>-122.231000</td>\n",
              "      <td>1830.000000</td>\n",
              "      <td>7622.500000</td>\n",
              "    </tr>\n",
              "    <tr>\n",
              "      <th>75%</th>\n",
              "      <td>4.000000</td>\n",
              "      <td>2.500000</td>\n",
              "      <td>2550.000000</td>\n",
              "      <td>1.070600e+04</td>\n",
              "      <td>2.000000</td>\n",
              "      <td>0.000000</td>\n",
              "      <td>0.000000</td>\n",
              "      <td>4.000000</td>\n",
              "      <td>8.000000</td>\n",
              "      <td>2200.000000</td>\n",
              "      <td>560.000000</td>\n",
              "      <td>1996.000000</td>\n",
              "      <td>0.000000</td>\n",
              "      <td>47.677900</td>\n",
              "      <td>-122.126000</td>\n",
              "      <td>2360.000000</td>\n",
              "      <td>10101.750000</td>\n",
              "    </tr>\n",
              "    <tr>\n",
              "      <th>max</th>\n",
              "      <td>33.000000</td>\n",
              "      <td>8.000000</td>\n",
              "      <td>13540.000000</td>\n",
              "      <td>1.651359e+06</td>\n",
              "      <td>3.500000</td>\n",
              "      <td>1.000000</td>\n",
              "      <td>4.000000</td>\n",
              "      <td>5.000000</td>\n",
              "      <td>13.000000</td>\n",
              "      <td>9410.000000</td>\n",
              "      <td>4820.000000</td>\n",
              "      <td>2015.000000</td>\n",
              "      <td>2015.000000</td>\n",
              "      <td>47.777600</td>\n",
              "      <td>-121.315000</td>\n",
              "      <td>6210.000000</td>\n",
              "      <td>871200.000000</td>\n",
              "    </tr>\n",
              "  </tbody>\n",
              "</table>\n",
              "</div>\n",
              "      <button class=\"colab-df-convert\" onclick=\"convertToInteractive('df-5ca04c6e-cd0c-4e3e-a2fc-fb30382c4f35')\"\n",
              "              title=\"Convert this dataframe to an interactive table.\"\n",
              "              style=\"display:none;\">\n",
              "        \n",
              "  <svg xmlns=\"http://www.w3.org/2000/svg\" height=\"24px\"viewBox=\"0 0 24 24\"\n",
              "       width=\"24px\">\n",
              "    <path d=\"M0 0h24v24H0V0z\" fill=\"none\"/>\n",
              "    <path d=\"M18.56 5.44l.94 2.06.94-2.06 2.06-.94-2.06-.94-.94-2.06-.94 2.06-2.06.94zm-11 1L8.5 8.5l.94-2.06 2.06-.94-2.06-.94L8.5 2.5l-.94 2.06-2.06.94zm10 10l.94 2.06.94-2.06 2.06-.94-2.06-.94-.94-2.06-.94 2.06-2.06.94z\"/><path d=\"M17.41 7.96l-1.37-1.37c-.4-.4-.92-.59-1.43-.59-.52 0-1.04.2-1.43.59L10.3 9.45l-7.72 7.72c-.78.78-.78 2.05 0 2.83L4 21.41c.39.39.9.59 1.41.59.51 0 1.02-.2 1.41-.59l7.78-7.78 2.81-2.81c.8-.78.8-2.07 0-2.86zM5.41 20L4 18.59l7.72-7.72 1.47 1.35L5.41 20z\"/>\n",
              "  </svg>\n",
              "      </button>\n",
              "      \n",
              "  <style>\n",
              "    .colab-df-container {\n",
              "      display:flex;\n",
              "      flex-wrap:wrap;\n",
              "      gap: 12px;\n",
              "    }\n",
              "\n",
              "    .colab-df-convert {\n",
              "      background-color: #E8F0FE;\n",
              "      border: none;\n",
              "      border-radius: 50%;\n",
              "      cursor: pointer;\n",
              "      display: none;\n",
              "      fill: #1967D2;\n",
              "      height: 32px;\n",
              "      padding: 0 0 0 0;\n",
              "      width: 32px;\n",
              "    }\n",
              "\n",
              "    .colab-df-convert:hover {\n",
              "      background-color: #E2EBFA;\n",
              "      box-shadow: 0px 1px 2px rgba(60, 64, 67, 0.3), 0px 1px 3px 1px rgba(60, 64, 67, 0.15);\n",
              "      fill: #174EA6;\n",
              "    }\n",
              "\n",
              "    [theme=dark] .colab-df-convert {\n",
              "      background-color: #3B4455;\n",
              "      fill: #D2E3FC;\n",
              "    }\n",
              "\n",
              "    [theme=dark] .colab-df-convert:hover {\n",
              "      background-color: #434B5C;\n",
              "      box-shadow: 0px 1px 3px 1px rgba(0, 0, 0, 0.15);\n",
              "      filter: drop-shadow(0px 1px 2px rgba(0, 0, 0, 0.3));\n",
              "      fill: #FFFFFF;\n",
              "    }\n",
              "  </style>\n",
              "\n",
              "      <script>\n",
              "        const buttonEl =\n",
              "          document.querySelector('#df-5ca04c6e-cd0c-4e3e-a2fc-fb30382c4f35 button.colab-df-convert');\n",
              "        buttonEl.style.display =\n",
              "          google.colab.kernel.accessAllowed ? 'block' : 'none';\n",
              "\n",
              "        async function convertToInteractive(key) {\n",
              "          const element = document.querySelector('#df-5ca04c6e-cd0c-4e3e-a2fc-fb30382c4f35');\n",
              "          const dataTable =\n",
              "            await google.colab.kernel.invokeFunction('convertToInteractive',\n",
              "                                                     [key], {});\n",
              "          if (!dataTable) return;\n",
              "\n",
              "          const docLinkHtml = 'Like what you see? Visit the ' +\n",
              "            '<a target=\"_blank\" href=https://colab.research.google.com/notebooks/data_table.ipynb>data table notebook</a>'\n",
              "            + ' to learn more about interactive tables.';\n",
              "          element.innerHTML = '';\n",
              "          dataTable['output_type'] = 'display_data';\n",
              "          await google.colab.output.renderOutput(dataTable, element);\n",
              "          const docLink = document.createElement('div');\n",
              "          docLink.innerHTML = docLinkHtml;\n",
              "          element.appendChild(docLink);\n",
              "        }\n",
              "      </script>\n",
              "    </div>\n",
              "  </div>\n",
              "  "
            ]
          },
          "metadata": {},
          "execution_count": 49
        }
      ]
    },
    {
      "cell_type": "code",
      "source": [
        "sns.histplot(y_train)"
      ],
      "metadata": {
        "colab": {
          "base_uri": "https://localhost:8080/",
          "height": 466
        },
        "id": "neiMvwI-ZmzY",
        "outputId": "645f05cc-dec8-4713-82f9-866d49ab1f6b"
      },
      "execution_count": null,
      "outputs": [
        {
          "output_type": "execute_result",
          "data": {
            "text/plain": [
              "<Axes: xlabel='price', ylabel='Count'>"
            ]
          },
          "metadata": {},
          "execution_count": 50
        },
        {
          "output_type": "display_data",
          "data": {
            "text/plain": [
              "<Figure size 640x480 with 1 Axes>"
            ],
            "image/png": "[encoded data removed]"
          },
          "metadata": {}
        }
      ]
    },
    {
      "cell_type": "code",
      "source": [
        "log_precios = y_train.apply(math.log)\n",
        "sns.histplot(log_precios)"
      ],
      "metadata": {
        "colab": {
          "base_uri": "https://localhost:8080/",
          "height": 466
        },
        "id": "I4918KYLdMm5",
        "outputId": "2edd3f9c-5b17-4204-c5f7-04473240ac2e"
      },
      "execution_count": null,
      "outputs": [
        {
          "output_type": "execute_result",
          "data": {
            "text/plain": [
              "<Axes: xlabel='price', ylabel='Count'>"
            ]
          },
          "metadata": {},
          "execution_count": 51
        },
        {
          "output_type": "display_data",
          "data": {
            "text/plain": [
              "<Figure size 640x480 with 1 Axes>"
            ],
            "image/png": "[encoded data removed]"
          },
          "metadata": {}
        }
      ]
    },
    {
      "cell_type": "code",
      "source": [
        "sns.boxplot(log_precios.values)"
      ],
      "metadata": {
        "colab": {
          "base_uri": "https://localhost:8080/",
          "height": 447
        },
        "id": "UhQyFD9LdtrY",
        "outputId": "8ec6e06e-6d54-42e6-cf2c-78d06c19240f"
      },
      "execution_count": null,
      "outputs": [
        {
          "output_type": "execute_result",
          "data": {
            "text/plain": [
              "<Axes: >"
            ]
          },
          "metadata": {},
          "execution_count": 52
        },
        {
          "output_type": "display_data",
          "data": {
            "text/plain": [
              "<Figure size 640x480 with 1 Axes>"
            ],
            "image/png": "[encoded data removed]"
          },
          "metadata": {}
        }
      ]
    },
    {
      "cell_type": "code",
      "source": [
        "kurtosis(y_train.values), kurtosis(log_precios.values)"
      ],
      "metadata": {
        "colab": {
          "base_uri": "https://localhost:8080/"
        },
        "id": "sWYjQ5v5eqWQ",
        "outputId": "22a0b300-0120-4fbe-b429-ac943a1a1e5f"
      },
      "execution_count": null,
      "outputs": [
        {
          "output_type": "execute_result",
          "data": {
            "text/plain": [
              "(37.650770984102024, 0.7424422541347679)"
            ]
          },
          "metadata": {},
          "execution_count": 53
        }
      ]
    },
    {
      "cell_type": "markdown",
      "source": [
        "La Curtosis pasa a tener un valor mucho más cercano a uno."
      ],
      "metadata": {
        "id": "ipdhYuY0hsVF"
      }
    },
    {
      "cell_type": "code",
      "source": [
        "mu, sigma = np.mean(log_precios.values), np.std(log_precios.values)\n",
        "val_1 = len(log_precios[(log_precios.values>mu-sigma) & (log_precios.values<mu+sigma)])/len(log_precios)\n",
        "val_2 = len(log_precios[(log_precios.values>mu-2*sigma) & (log_precios.values<mu+2*sigma)])/len(log_precios)\n",
        "val_3 = len(log_precios[(log_precios.values>mu-3*sigma) & (log_precios.values<mu+3*sigma)])/len(log_precios)\n",
        "print(f'La media más menos una desviación típica contiene un {round(val_1*100, 2)}% de los datos.')\n",
        "print(f'La media más menos dos desviaciones típicas contiene un {round(val_2*100, 2)}% de los datos.')\n",
        "print(f'La media más menos tres desviaciones típicas  contiene un {round(val_3*100, 2)}% de los datos.')"
      ],
      "metadata": {
        "colab": {
          "base_uri": "https://localhost:8080/"
        },
        "id": "pdqi_ZvpfcSh",
        "outputId": "72b8631d-36fe-408c-9fd0-7f5f4b516ee4"
      },
      "execution_count": null,
      "outputs": [
        {
          "output_type": "stream",
          "name": "stdout",
          "text": [
            "La media más menos una desviación típica contiene un 70.02% de los datos.\n",
            "La media más menos dos desviaciones típicas contiene un 95.22% de los datos.\n",
            "La media más menos tres desviaciones típicas  contiene un 99.22% de los datos.\n"
          ]
        }
      ]
    },
    {
      "cell_type": "markdown",
      "source": [
        "Aunque el primer intervalo contiene un porcentaje algo superior a lo estrictamente normal, consideramos la transformación logarítimica suficientemente buena."
      ],
      "metadata": {
        "id": "ZUWOkvTsi06n"
      }
    },
    {
      "cell_type": "markdown",
      "source": [
        "Vamos a generar la variable *sqft_ratio*, la proporción de superficie habitable entre superficie total."
      ],
      "metadata": {
        "id": "0-jtZoWR572R"
      }
    },
    {
      "cell_type": "code",
      "source": [
        "x_train['sqft_ratio'] = x_train['sqft_living']/x_train['sqft_lot']"
      ],
      "metadata": {
        "id": "acYblFjYl3zs"
      },
      "execution_count": null,
      "outputs": []
    },
    {
      "cell_type": "markdown",
      "source": [
        "## Las zonas, los ZIP codes y sus precios"
      ],
      "metadata": {
        "id": "6QgRIhaRHVLY"
      }
    },
    {
      "cell_type": "code",
      "source": [
        "zonas = train[['lat', 'long', 'zipcode', 'price']]\n",
        "zonas.head()"
      ],
      "metadata": {
        "colab": {
          "base_uri": "https://localhost:8080/",
          "height": 237
        },
        "id": "lsTxAfVXHeaF",
        "outputId": "218c0c78-d520-4d47-a5dc-98f4b3688817"
      },
      "execution_count": null,
      "outputs": [
        {
          "output_type": "execute_result",
          "data": {
            "text/plain": [
              "                lat     long  zipcode     price\n",
              "id                                             \n",
              "2126059295  47.7325 -122.165    98034  995500.0\n",
              "1250202660  47.5917 -122.290    98144  825000.0\n",
              "6804600240  47.7606 -122.167    98011  417000.0\n",
              "6788201781  47.6398 -122.306    98112  886000.0\n",
              "293070270   47.6178 -122.055    98074  922755.0"
            ],
            "text/html": [
              "\n",
              "  <div id=\"df-a5d074c6-faa3-44b3-b8ba-8d3f0695e897\">\n",
              "    <div class=\"colab-df-container\">\n",
              "      <div>\n",
              "<style scoped>\n",
              "    .dataframe tbody tr th:only-of-type {\n",
              "        vertical-align: middle;\n",
              "    }\n",
              "\n",
              "    .dataframe tbody tr th {\n",
              "        vertical-align: top;\n",
              "    }\n",
              "\n",
              "    .dataframe thead th {\n",
              "        text-align: right;\n",
              "    }\n",
              "</style>\n",
              "<table border=\"1\" class=\"dataframe\">\n",
              "  <thead>\n",
              "    <tr style=\"text-align: right;\">\n",
              "      <th></th>\n",
              "      <th>lat</th>\n",
              "      <th>long</th>\n",
              "      <th>zipcode</th>\n",
              "      <th>price</th>\n",
              "    </tr>\n",
              "    <tr>\n",
              "      <th>id</th>\n",
              "      <th></th>\n",
              "      <th></th>\n",
              "      <th></th>\n",
              "      <th></th>\n",
              "    </tr>\n",
              "  </thead>\n",
              "  <tbody>\n",
              "    <tr>\n",
              "      <th>2126059295</th>\n",
              "      <td>47.7325</td>\n",
              "      <td>-122.165</td>\n",
              "      <td>98034</td>\n",
              "      <td>995500.0</td>\n",
              "    </tr>\n",
              "    <tr>\n",
              "      <th>1250202660</th>\n",
              "      <td>47.5917</td>\n",
              "      <td>-122.290</td>\n",
              "      <td>98144</td>\n",
              "      <td>825000.0</td>\n",
              "    </tr>\n",
              "    <tr>\n",
              "      <th>6804600240</th>\n",
              "      <td>47.7606</td>\n",
              "      <td>-122.167</td>\n",
              "      <td>98011</td>\n",
              "      <td>417000.0</td>\n",
              "    </tr>\n",
              "    <tr>\n",
              "      <th>6788201781</th>\n",
              "      <td>47.6398</td>\n",
              "      <td>-122.306</td>\n",
              "      <td>98112</td>\n",
              "      <td>886000.0</td>\n",
              "    </tr>\n",
              "    <tr>\n",
              "      <th>293070270</th>\n",
              "      <td>47.6178</td>\n",
              "      <td>-122.055</td>\n",
              "      <td>98074</td>\n",
              "      <td>922755.0</td>\n",
              "    </tr>\n",
              "  </tbody>\n",
              "</table>\n",
              "</div>\n",
              "      <button class=\"colab-df-convert\" onclick=\"convertToInteractive('df-a5d074c6-faa3-44b3-b8ba-8d3f0695e897')\"\n",
              "              title=\"Convert this dataframe to an interactive table.\"\n",
              "              style=\"display:none;\">\n",
              "        \n",
              "  <svg xmlns=\"http://www.w3.org/2000/svg\" height=\"24px\"viewBox=\"0 0 24 24\"\n",
              "       width=\"24px\">\n",
              "    <path d=\"M0 0h24v24H0V0z\" fill=\"none\"/>\n",
              "    <path d=\"M18.56 5.44l.94 2.06.94-2.06 2.06-.94-2.06-.94-.94-2.06-.94 2.06-2.06.94zm-11 1L8.5 8.5l.94-2.06 2.06-.94-2.06-.94L8.5 2.5l-.94 2.06-2.06.94zm10 10l.94 2.06.94-2.06 2.06-.94-2.06-.94-.94-2.06-.94 2.06-2.06.94z\"/><path d=\"M17.41 7.96l-1.37-1.37c-.4-.4-.92-.59-1.43-.59-.52 0-1.04.2-1.43.59L10.3 9.45l-7.72 7.72c-.78.78-.78 2.05 0 2.83L4 21.41c.39.39.9.59 1.41.59.51 0 1.02-.2 1.41-.59l7.78-7.78 2.81-2.81c.8-.78.8-2.07 0-2.86zM5.41 20L4 18.59l7.72-7.72 1.47 1.35L5.41 20z\"/>\n",
              "  </svg>\n",
              "      </button>\n",
              "      \n",
              "  <style>\n",
              "    .colab-df-container {\n",
              "      display:flex;\n",
              "      flex-wrap:wrap;\n",
              "      gap: 12px;\n",
              "    }\n",
              "\n",
              "    .colab-df-convert {\n",
              "      background-color: #E8F0FE;\n",
              "      border: none;\n",
              "      border-radius: 50%;\n",
              "      cursor: pointer;\n",
              "      display: none;\n",
              "      fill: #1967D2;\n",
              "      height: 32px;\n",
              "      padding: 0 0 0 0;\n",
              "      width: 32px;\n",
              "    }\n",
              "\n",
              "    .colab-df-convert:hover {\n",
              "      background-color: #E2EBFA;\n",
              "      box-shadow: 0px 1px 2px rgba(60, 64, 67, 0.3), 0px 1px 3px 1px rgba(60, 64, 67, 0.15);\n",
              "      fill: #174EA6;\n",
              "    }\n",
              "\n",
              "    [theme=dark] .colab-df-convert {\n",
              "      background-color: #3B4455;\n",
              "      fill: #D2E3FC;\n",
              "    }\n",
              "\n",
              "    [theme=dark] .colab-df-convert:hover {\n",
              "      background-color: #434B5C;\n",
              "      box-shadow: 0px 1px 3px 1px rgba(0, 0, 0, 0.15);\n",
              "      filter: drop-shadow(0px 1px 2px rgba(0, 0, 0, 0.3));\n",
              "      fill: #FFFFFF;\n",
              "    }\n",
              "  </style>\n",
              "\n",
              "      <script>\n",
              "        const buttonEl =\n",
              "          document.querySelector('#df-a5d074c6-faa3-44b3-b8ba-8d3f0695e897 button.colab-df-convert');\n",
              "        buttonEl.style.display =\n",
              "          google.colab.kernel.accessAllowed ? 'block' : 'none';\n",
              "\n",
              "        async function convertToInteractive(key) {\n",
              "          const element = document.querySelector('#df-a5d074c6-faa3-44b3-b8ba-8d3f0695e897');\n",
              "          const dataTable =\n",
              "            await google.colab.kernel.invokeFunction('convertToInteractive',\n",
              "                                                     [key], {});\n",
              "          if (!dataTable) return;\n",
              "\n",
              "          const docLinkHtml = 'Like what you see? Visit the ' +\n",
              "            '<a target=\"_blank\" href=https://colab.research.google.com/notebooks/data_table.ipynb>data table notebook</a>'\n",
              "            + ' to learn more about interactive tables.';\n",
              "          element.innerHTML = '';\n",
              "          dataTable['output_type'] = 'display_data';\n",
              "          await google.colab.output.renderOutput(dataTable, element);\n",
              "          const docLink = document.createElement('div');\n",
              "          docLink.innerHTML = docLinkHtml;\n",
              "          element.appendChild(docLink);\n",
              "        }\n",
              "      </script>\n",
              "    </div>\n",
              "  </div>\n",
              "  "
            ]
          },
          "metadata": {},
          "execution_count": 56
        }
      ]
    },
    {
      "cell_type": "code",
      "source": [
        "(max(zonas['long'])-min(zonas['long']))/(max(zonas['lat'])-min(zonas['lat']))"
      ],
      "metadata": {
        "colab": {
          "base_uri": "https://localhost:8080/"
        },
        "id": "4lSZt2dkMfGp",
        "outputId": "1c2acb6e-41c7-4e2c-a34d-e71ceab76cb2"
      },
      "execution_count": null,
      "outputs": [
        {
          "output_type": "execute_result",
          "data": {
            "text/plain": [
              "1.9366253820170718"
            ]
          },
          "metadata": {},
          "execution_count": 57
        }
      ]
    },
    {
      "cell_type": "code",
      "source": [
        "cp = zonas['zipcode'].unique()\n",
        "np.sort(cp)"
      ],
      "metadata": {
        "colab": {
          "base_uri": "https://localhost:8080/"
        },
        "id": "vymXerMLOkkA",
        "outputId": "de9148ba-2643-4535-9084-887e422a8ecd"
      },
      "execution_count": null,
      "outputs": [
        {
          "output_type": "execute_result",
          "data": {
            "text/plain": [
              "array([98001, 98002, 98003, 98004, 98005, 98006, 98007, 98008, 98010,\n",
              "       98011, 98014, 98019, 98022, 98023, 98024, 98027, 98028, 98029,\n",
              "       98030, 98031, 98032, 98033, 98034, 98038, 98039, 98040, 98042,\n",
              "       98045, 98052, 98053, 98055, 98056, 98058, 98059, 98065, 98070,\n",
              "       98072, 98074, 98075, 98077, 98092, 98102, 98103, 98105, 98106,\n",
              "       98107, 98108, 98109, 98112, 98115, 98116, 98117, 98118, 98119,\n",
              "       98122, 98125, 98126, 98133, 98136, 98144, 98146, 98148, 98155,\n",
              "       98166, 98168, 98177, 98178, 98188, 98198, 98199])"
            ]
          },
          "metadata": {},
          "execution_count": 58
        }
      ]
    },
    {
      "cell_type": "code",
      "source": [
        "sns.scatterplot(data=zonas[(zonas['zipcode']==98125) & (zonas['price']<400000)], x='long', y='lat', hue='price', cmap='coolwarm')\n",
        "plt.show()"
      ],
      "metadata": {
        "colab": {
          "base_uri": "https://localhost:8080/",
          "height": 486
        },
        "id": "Ewsr3NO1kdj1",
        "outputId": "aae13240-60c4-4b8e-a112-71b1490e88d0"
      },
      "execution_count": null,
      "outputs": [
        {
          "output_type": "stream",
          "name": "stderr",
          "text": [
            "/usr/local/lib/python3.10/dist-packages/seaborn/relational.py:573: UserWarning: No data for colormapping provided via 'c'. Parameters 'cmap' will be ignored\n",
            "  points = ax.scatter(x=x, y=y, **kws)\n"
          ]
        },
        {
          "output_type": "display_data",
          "data": {
            "text/plain": [
              "<Figure size 640x480 with 1 Axes>"
            ],
            "image/png": "[encoded data removed]"
          },
          "metadata": {}
        }
      ]
    },
    {
      "cell_type": "markdown",
      "source": [
        "Observando un código postal al azar, no parece haber una distribución clara."
      ],
      "metadata": {
        "id": "kFZf-Z8GLbdf"
      }
    },
    {
      "cell_type": "code",
      "source": [
        "longitud = []\n",
        "latitud = []\n",
        "precio = []\n",
        "\n",
        "for ZIP in cp:\n",
        "  subset = zonas[zonas['zipcode']==ZIP]\n",
        "  longitud.append(np.mean(subset['long']))\n",
        "  latitud.append(np.mean(subset['lat']))\n",
        "  precio.append(np.median(subset['price']))\n",
        "\n",
        "medias = pd.DataFrame(data={'zipcode': cp, 'longitud': longitud, 'latitud': latitud, 'precio': precio}).set_index('zipcode')\n",
        "medias.head()"
      ],
      "metadata": {
        "colab": {
          "base_uri": "https://localhost:8080/",
          "height": 237
        },
        "id": "3ELH_RGgkd8g",
        "outputId": "99ab08ea-8d80-4475-9718-1fd4b2ce0583"
      },
      "execution_count": null,
      "outputs": [
        {
          "output_type": "execute_result",
          "data": {
            "text/plain": [
              "           longitud    latitud    precio\n",
              "zipcode                                 \n",
              "98034   -122.207392  47.720754  447450.0\n",
              "98144   -122.298648  47.586638  450000.0\n",
              "98011   -122.200769  47.754746  462500.0\n",
              "98112   -122.297821  47.629694  950000.0\n",
              "98074   -122.044787  47.623555  646500.0"
            ],
            "text/html": [
              "\n",
              "  <div id=\"df-98c7918e-3432-463a-9382-d1d471f1bf12\">\n",
              "    <div class=\"colab-df-container\">\n",
              "      <div>\n",
              "<style scoped>\n",
              "    .dataframe tbody tr th:only-of-type {\n",
              "        vertical-align: middle;\n",
              "    }\n",
              "\n",
              "    .dataframe tbody tr th {\n",
              "        vertical-align: top;\n",
              "    }\n",
              "\n",
              "    .dataframe thead th {\n",
              "        text-align: right;\n",
              "    }\n",
              "</style>\n",
              "<table border=\"1\" class=\"dataframe\">\n",
              "  <thead>\n",
              "    <tr style=\"text-align: right;\">\n",
              "      <th></th>\n",
              "      <th>longitud</th>\n",
              "      <th>latitud</th>\n",
              "      <th>precio</th>\n",
              "    </tr>\n",
              "    <tr>\n",
              "      <th>zipcode</th>\n",
              "      <th></th>\n",
              "      <th></th>\n",
              "      <th></th>\n",
              "    </tr>\n",
              "  </thead>\n",
              "  <tbody>\n",
              "    <tr>\n",
              "      <th>98034</th>\n",
              "      <td>-122.207392</td>\n",
              "      <td>47.720754</td>\n",
              "      <td>447450.0</td>\n",
              "    </tr>\n",
              "    <tr>\n",
              "      <th>98144</th>\n",
              "      <td>-122.298648</td>\n",
              "      <td>47.586638</td>\n",
              "      <td>450000.0</td>\n",
              "    </tr>\n",
              "    <tr>\n",
              "      <th>98011</th>\n",
              "      <td>-122.200769</td>\n",
              "      <td>47.754746</td>\n",
              "      <td>462500.0</td>\n",
              "    </tr>\n",
              "    <tr>\n",
              "      <th>98112</th>\n",
              "      <td>-122.297821</td>\n",
              "      <td>47.629694</td>\n",
              "      <td>950000.0</td>\n",
              "    </tr>\n",
              "    <tr>\n",
              "      <th>98074</th>\n",
              "      <td>-122.044787</td>\n",
              "      <td>47.623555</td>\n",
              "      <td>646500.0</td>\n",
              "    </tr>\n",
              "  </tbody>\n",
              "</table>\n",
              "</div>\n",
              "      <button class=\"colab-df-convert\" onclick=\"convertToInteractive('df-98c7918e-3432-463a-9382-d1d471f1bf12')\"\n",
              "              title=\"Convert this dataframe to an interactive table.\"\n",
              "              style=\"display:none;\">\n",
              "        \n",
              "  <svg xmlns=\"http://www.w3.org/2000/svg\" height=\"24px\"viewBox=\"0 0 24 24\"\n",
              "       width=\"24px\">\n",
              "    <path d=\"M0 0h24v24H0V0z\" fill=\"none\"/>\n",
              "    <path d=\"M18.56 5.44l.94 2.06.94-2.06 2.06-.94-2.06-.94-.94-2.06-.94 2.06-2.06.94zm-11 1L8.5 8.5l.94-2.06 2.06-.94-2.06-.94L8.5 2.5l-.94 2.06-2.06.94zm10 10l.94 2.06.94-2.06 2.06-.94-2.06-.94-.94-2.06-.94 2.06-2.06.94z\"/><path d=\"M17.41 7.96l-1.37-1.37c-.4-.4-.92-.59-1.43-.59-.52 0-1.04.2-1.43.59L10.3 9.45l-7.72 7.72c-.78.78-.78 2.05 0 2.83L4 21.41c.39.39.9.59 1.41.59.51 0 1.02-.2 1.41-.59l7.78-7.78 2.81-2.81c.8-.78.8-2.07 0-2.86zM5.41 20L4 18.59l7.72-7.72 1.47 1.35L5.41 20z\"/>\n",
              "  </svg>\n",
              "      </button>\n",
              "      \n",
              "  <style>\n",
              "    .colab-df-container {\n",
              "      display:flex;\n",
              "      flex-wrap:wrap;\n",
              "      gap: 12px;\n",
              "    }\n",
              "\n",
              "    .colab-df-convert {\n",
              "      background-color: #E8F0FE;\n",
              "      border: none;\n",
              "      border-radius: 50%;\n",
              "      cursor: pointer;\n",
              "      display: none;\n",
              "      fill: #1967D2;\n",
              "      height: 32px;\n",
              "      padding: 0 0 0 0;\n",
              "      width: 32px;\n",
              "    }\n",
              "\n",
              "    .colab-df-convert:hover {\n",
              "      background-color: #E2EBFA;\n",
              "      box-shadow: 0px 1px 2px rgba(60, 64, 67, 0.3), 0px 1px 3px 1px rgba(60, 64, 67, 0.15);\n",
              "      fill: #174EA6;\n",
              "    }\n",
              "\n",
              "    [theme=dark] .colab-df-convert {\n",
              "      background-color: #3B4455;\n",
              "      fill: #D2E3FC;\n",
              "    }\n",
              "\n",
              "    [theme=dark] .colab-df-convert:hover {\n",
              "      background-color: #434B5C;\n",
              "      box-shadow: 0px 1px 3px 1px rgba(0, 0, 0, 0.15);\n",
              "      filter: drop-shadow(0px 1px 2px rgba(0, 0, 0, 0.3));\n",
              "      fill: #FFFFFF;\n",
              "    }\n",
              "  </style>\n",
              "\n",
              "      <script>\n",
              "        const buttonEl =\n",
              "          document.querySelector('#df-98c7918e-3432-463a-9382-d1d471f1bf12 button.colab-df-convert');\n",
              "        buttonEl.style.display =\n",
              "          google.colab.kernel.accessAllowed ? 'block' : 'none';\n",
              "\n",
              "        async function convertToInteractive(key) {\n",
              "          const element = document.querySelector('#df-98c7918e-3432-463a-9382-d1d471f1bf12');\n",
              "          const dataTable =\n",
              "            await google.colab.kernel.invokeFunction('convertToInteractive',\n",
              "                                                     [key], {});\n",
              "          if (!dataTable) return;\n",
              "\n",
              "          const docLinkHtml = 'Like what you see? Visit the ' +\n",
              "            '<a target=\"_blank\" href=https://colab.research.google.com/notebooks/data_table.ipynb>data table notebook</a>'\n",
              "            + ' to learn more about interactive tables.';\n",
              "          element.innerHTML = '';\n",
              "          dataTable['output_type'] = 'display_data';\n",
              "          await google.colab.output.renderOutput(dataTable, element);\n",
              "          const docLink = document.createElement('div');\n",
              "          docLink.innerHTML = docLinkHtml;\n",
              "          element.appendChild(docLink);\n",
              "        }\n",
              "      </script>\n",
              "    </div>\n",
              "  </div>\n",
              "  "
            ]
          },
          "metadata": {},
          "execution_count": 60
        }
      ]
    },
    {
      "cell_type": "code",
      "source": [
        "sns.scatterplot(data=medias, x=longitud, y=latitud, hue=precio, cmap='coolwarm')\n",
        "plt.show()"
      ],
      "metadata": {
        "colab": {
          "base_uri": "https://localhost:8080/",
          "height": 465
        },
        "id": "vcuyZXDxZElq",
        "outputId": "1b9b5bed-a16e-492c-bd1e-e588b0375b42"
      },
      "execution_count": null,
      "outputs": [
        {
          "output_type": "stream",
          "name": "stderr",
          "text": [
            "/usr/local/lib/python3.10/dist-packages/seaborn/relational.py:573: UserWarning: No data for colormapping provided via 'c'. Parameters 'cmap' will be ignored\n",
            "  points = ax.scatter(x=x, y=y, **kws)\n"
          ]
        },
        {
          "output_type": "display_data",
          "data": {
            "text/plain": [
              "<Figure size 640x480 with 1 Axes>"
            ],
            "image/png": "[encoded data removed]"
          },
          "metadata": {}
        }
      ]
    },
    {
      "cell_type": "markdown",
      "source": [
        "En cambio, sí parece haber un centro del condado de precios considerablemente más altos."
      ],
      "metadata": {
        "id": "9D3jGhtvLpH5"
      }
    },
    {
      "cell_type": "markdown",
      "source": [
        "### Cálculo del centro de masas"
      ],
      "metadata": {
        "id": "w8XR6bXm04wQ"
      }
    },
    {
      "cell_type": "code",
      "source": [
        "precio_tot = sum(medias['precio'])\n",
        "long_center = sum(medias['longitud']*medias['precio'])/precio_tot\n",
        "lat_center = sum(medias['latitud']*medias['precio'])/precio_tot\n",
        "\n",
        "long_center, lat_center"
      ],
      "metadata": {
        "id": "950R1cyy01Nm",
        "colab": {
          "base_uri": "https://localhost:8080/"
        },
        "outputId": "c123642b-1ede-4f98-e4ac-adfea1537a72"
      },
      "execution_count": null,
      "outputs": [
        {
          "output_type": "execute_result",
          "data": {
            "text/plain": [
              "(-122.21063846115864, 47.58473615789934)"
            ]
          },
          "metadata": {},
          "execution_count": 62
        }
      ]
    },
    {
      "cell_type": "code",
      "source": [
        "f = lambda x,y: ((x-long_center)**2+(y-lat_center)**2)**(1/2)\n",
        "train['distancia'] = train.apply(lambda row: f(row['long'], row['lat']), axis=1)\n",
        "train.head()"
      ],
      "metadata": {
        "colab": {
          "base_uri": "https://localhost:8080/",
          "height": 417
        },
        "id": "Gsyz-Ywa6lAh",
        "outputId": "e203f953-fa98-4b63-bdf9-1f2795071f33"
      },
      "execution_count": null,
      "outputs": [
        {
          "output_type": "execute_result",
          "data": {
            "text/plain": [
              "                 date     price  bedrooms  bathrooms  sqft_living  sqft_lot  \\\n",
              "id                                                                            \n",
              "2126059295 2014-08-05  995500.0         5       4.50         4280      8465   \n",
              "1250202660 2014-09-24  825000.0         4       1.00         2290      6300   \n",
              "6804600240 2015-02-11  417000.0         3       1.75         1920      9512   \n",
              "6788201781 2014-06-05  886000.0         4       2.00         2660      3900   \n",
              "293070270  2014-11-04  922755.0         4       3.50         3560      4951   \n",
              "\n",
              "            floors  waterfront  view  condition  ...  sqft_above  \\\n",
              "id                                               ...               \n",
              "2126059295     2.0           0     0          3  ...        4280   \n",
              "1250202660     1.5           0     4          4  ...        2150   \n",
              "6804600240     1.0           0     0          3  ...        1440   \n",
              "6788201781     1.5           0     0          4  ...        1480   \n",
              "293070270      2.0           0     0          3  ...        3560   \n",
              "\n",
              "            sqft_basement  yr_built  yr_renovated  zipcode      lat     long  \\\n",
              "id                                                                             \n",
              "2126059295              0      2014             0    98034  47.7325 -122.165   \n",
              "1250202660            140      1921             0    98144  47.5917 -122.290   \n",
              "6804600240            480      1980             0    98011  47.7606 -122.167   \n",
              "6788201781           1180      1923             0    98112  47.6398 -122.306   \n",
              "293070270               0      2014             0    98074  47.6178 -122.055   \n",
              "\n",
              "            sqft_living15  sqft_lot15  distancia  \n",
              "id                                                \n",
              "2126059295           2990       11067   0.154651  \n",
              "1250202660           2390        6300   0.079666  \n",
              "6804600240           1820        9512   0.181197  \n",
              "6788201781           2350        3900   0.110117  \n",
              "293070270            3540        5500   0.159112  \n",
              "\n",
              "[5 rows x 21 columns]"
            ],
            "text/html": [
              "\n",
              "  <div id=\"df-c089d098-f408-4a3f-be1b-a8bb35b4c309\">\n",
              "    <div class=\"colab-df-container\">\n",
              "      <div>\n",
              "<style scoped>\n",
              "    .dataframe tbody tr th:only-of-type {\n",
              "        vertical-align: middle;\n",
              "    }\n",
              "\n",
              "    .dataframe tbody tr th {\n",
              "        vertical-align: top;\n",
              "    }\n",
              "\n",
              "    .dataframe thead th {\n",
              "        text-align: right;\n",
              "    }\n",
              "</style>\n",
              "<table border=\"1\" class=\"dataframe\">\n",
              "  <thead>\n",
              "    <tr style=\"text-align: right;\">\n",
              "      <th></th>\n",
              "      <th>date</th>\n",
              "      <th>price</th>\n",
              "      <th>bedrooms</th>\n",
              "      <th>bathrooms</th>\n",
              "      <th>sqft_living</th>\n",
              "      <th>sqft_lot</th>\n",
              "      <th>floors</th>\n",
              "      <th>waterfront</th>\n",
              "      <th>view</th>\n",
              "      <th>condition</th>\n",
              "      <th>...</th>\n",
              "      <th>sqft_above</th>\n",
              "      <th>sqft_basement</th>\n",
              "      <th>yr_built</th>\n",
              "      <th>yr_renovated</th>\n",
              "      <th>zipcode</th>\n",
              "      <th>lat</th>\n",
              "      <th>long</th>\n",
              "      <th>sqft_living15</th>\n",
              "      <th>sqft_lot15</th>\n",
              "      <th>distancia</th>\n",
              "    </tr>\n",
              "    <tr>\n",
              "      <th>id</th>\n",
              "      <th></th>\n",
              "      <th></th>\n",
              "      <th></th>\n",
              "      <th></th>\n",
              "      <th></th>\n",
              "      <th></th>\n",
              "      <th></th>\n",
              "      <th></th>\n",
              "      <th></th>\n",
              "      <th></th>\n",
              "      <th></th>\n",
              "      <th></th>\n",
              "      <th></th>\n",
              "      <th></th>\n",
              "      <th></th>\n",
              "      <th></th>\n",
              "      <th></th>\n",
              "      <th></th>\n",
              "      <th></th>\n",
              "      <th></th>\n",
              "      <th></th>\n",
              "    </tr>\n",
              "  </thead>\n",
              "  <tbody>\n",
              "    <tr>\n",
              "      <th>2126059295</th>\n",
              "      <td>2014-08-05</td>\n",
              "      <td>995500.0</td>\n",
              "      <td>5</td>\n",
              "      <td>4.50</td>\n",
              "      <td>4280</td>\n",
              "      <td>8465</td>\n",
              "      <td>2.0</td>\n",
              "      <td>0</td>\n",
              "      <td>0</td>\n",
              "      <td>3</td>\n",
              "      <td>...</td>\n",
              "      <td>4280</td>\n",
              "      <td>0</td>\n",
              "      <td>2014</td>\n",
              "      <td>0</td>\n",
              "      <td>98034</td>\n",
              "      <td>47.7325</td>\n",
              "      <td>-122.165</td>\n",
              "      <td>2990</td>\n",
              "      <td>11067</td>\n",
              "      <td>0.154651</td>\n",
              "    </tr>\n",
              "    <tr>\n",
              "      <th>1250202660</th>\n",
              "      <td>2014-09-24</td>\n",
              "      <td>825000.0</td>\n",
              "      <td>4</td>\n",
              "      <td>1.00</td>\n",
              "      <td>2290</td>\n",
              "      <td>6300</td>\n",
              "      <td>1.5</td>\n",
              "      <td>0</td>\n",
              "      <td>4</td>\n",
              "      <td>4</td>\n",
              "      <td>...</td>\n",
              "      <td>2150</td>\n",
              "      <td>140</td>\n",
              "      <td>1921</td>\n",
              "      <td>0</td>\n",
              "      <td>98144</td>\n",
              "      <td>47.5917</td>\n",
              "      <td>-122.290</td>\n",
              "      <td>2390</td>\n",
              "      <td>6300</td>\n",
              "      <td>0.079666</td>\n",
              "    </tr>\n",
              "    <tr>\n",
              "      <th>6804600240</th>\n",
              "      <td>2015-02-11</td>\n",
              "      <td>417000.0</td>\n",
              "      <td>3</td>\n",
              "      <td>1.75</td>\n",
              "      <td>1920</td>\n",
              "      <td>9512</td>\n",
              "      <td>1.0</td>\n",
              "      <td>0</td>\n",
              "      <td>0</td>\n",
              "      <td>3</td>\n",
              "      <td>...</td>\n",
              "      <td>1440</td>\n",
              "      <td>480</td>\n",
              "      <td>1980</td>\n",
              "      <td>0</td>\n",
              "      <td>98011</td>\n",
              "      <td>47.7606</td>\n",
              "      <td>-122.167</td>\n",
              "      <td>1820</td>\n",
              "      <td>9512</td>\n",
              "      <td>0.181197</td>\n",
              "    </tr>\n",
              "    <tr>\n",
              "      <th>6788201781</th>\n",
              "      <td>2014-06-05</td>\n",
              "      <td>886000.0</td>\n",
              "      <td>4</td>\n",
              "      <td>2.00</td>\n",
              "      <td>2660</td>\n",
              "      <td>3900</td>\n",
              "      <td>1.5</td>\n",
              "      <td>0</td>\n",
              "      <td>0</td>\n",
              "      <td>4</td>\n",
              "      <td>...</td>\n",
              "      <td>1480</td>\n",
              "      <td>1180</td>\n",
              "      <td>1923</td>\n",
              "      <td>0</td>\n",
              "      <td>98112</td>\n",
              "      <td>47.6398</td>\n",
              "      <td>-122.306</td>\n",
              "      <td>2350</td>\n",
              "      <td>3900</td>\n",
              "      <td>0.110117</td>\n",
              "    </tr>\n",
              "    <tr>\n",
              "      <th>293070270</th>\n",
              "      <td>2014-11-04</td>\n",
              "      <td>922755.0</td>\n",
              "      <td>4</td>\n",
              "      <td>3.50</td>\n",
              "      <td>3560</td>\n",
              "      <td>4951</td>\n",
              "      <td>2.0</td>\n",
              "      <td>0</td>\n",
              "      <td>0</td>\n",
              "      <td>3</td>\n",
              "      <td>...</td>\n",
              "      <td>3560</td>\n",
              "      <td>0</td>\n",
              "      <td>2014</td>\n",
              "      <td>0</td>\n",
              "      <td>98074</td>\n",
              "      <td>47.6178</td>\n",
              "      <td>-122.055</td>\n",
              "      <td>3540</td>\n",
              "      <td>5500</td>\n",
              "      <td>0.159112</td>\n",
              "    </tr>\n",
              "  </tbody>\n",
              "</table>\n",
              "<p>5 rows × 21 columns</p>\n",
              "</div>\n",
              "      <button class=\"colab-df-convert\" onclick=\"convertToInteractive('df-c089d098-f408-4a3f-be1b-a8bb35b4c309')\"\n",
              "              title=\"Convert this dataframe to an interactive table.\"\n",
              "              style=\"display:none;\">\n",
              "        \n",
              "  <svg xmlns=\"http://www.w3.org/2000/svg\" height=\"24px\"viewBox=\"0 0 24 24\"\n",
              "       width=\"24px\">\n",
              "    <path d=\"M0 0h24v24H0V0z\" fill=\"none\"/>\n",
              "    <path d=\"M18.56 5.44l.94 2.06.94-2.06 2.06-.94-2.06-.94-.94-2.06-.94 2.06-2.06.94zm-11 1L8.5 8.5l.94-2.06 2.06-.94-2.06-.94L8.5 2.5l-.94 2.06-2.06.94zm10 10l.94 2.06.94-2.06 2.06-.94-2.06-.94-.94-2.06-.94 2.06-2.06.94z\"/><path d=\"M17.41 7.96l-1.37-1.37c-.4-.4-.92-.59-1.43-.59-.52 0-1.04.2-1.43.59L10.3 9.45l-7.72 7.72c-.78.78-.78 2.05 0 2.83L4 21.41c.39.39.9.59 1.41.59.51 0 1.02-.2 1.41-.59l7.78-7.78 2.81-2.81c.8-.78.8-2.07 0-2.86zM5.41 20L4 18.59l7.72-7.72 1.47 1.35L5.41 20z\"/>\n",
              "  </svg>\n",
              "      </button>\n",
              "      \n",
              "  <style>\n",
              "    .colab-df-container {\n",
              "      display:flex;\n",
              "      flex-wrap:wrap;\n",
              "      gap: 12px;\n",
              "    }\n",
              "\n",
              "    .colab-df-convert {\n",
              "      background-color: #E8F0FE;\n",
              "      border: none;\n",
              "      border-radius: 50%;\n",
              "      cursor: pointer;\n",
              "      display: none;\n",
              "      fill: #1967D2;\n",
              "      height: 32px;\n",
              "      padding: 0 0 0 0;\n",
              "      width: 32px;\n",
              "    }\n",
              "\n",
              "    .colab-df-convert:hover {\n",
              "      background-color: #E2EBFA;\n",
              "      box-shadow: 0px 1px 2px rgba(60, 64, 67, 0.3), 0px 1px 3px 1px rgba(60, 64, 67, 0.15);\n",
              "      fill: #174EA6;\n",
              "    }\n",
              "\n",
              "    [theme=dark] .colab-df-convert {\n",
              "      background-color: #3B4455;\n",
              "      fill: #D2E3FC;\n",
              "    }\n",
              "\n",
              "    [theme=dark] .colab-df-convert:hover {\n",
              "      background-color: #434B5C;\n",
              "      box-shadow: 0px 1px 3px 1px rgba(0, 0, 0, 0.15);\n",
              "      filter: drop-shadow(0px 1px 2px rgba(0, 0, 0, 0.3));\n",
              "      fill: #FFFFFF;\n",
              "    }\n",
              "  </style>\n",
              "\n",
              "      <script>\n",
              "        const buttonEl =\n",
              "          document.querySelector('#df-c089d098-f408-4a3f-be1b-a8bb35b4c309 button.colab-df-convert');\n",
              "        buttonEl.style.display =\n",
              "          google.colab.kernel.accessAllowed ? 'block' : 'none';\n",
              "\n",
              "        async function convertToInteractive(key) {\n",
              "          const element = document.querySelector('#df-c089d098-f408-4a3f-be1b-a8bb35b4c309');\n",
              "          const dataTable =\n",
              "            await google.colab.kernel.invokeFunction('convertToInteractive',\n",
              "                                                     [key], {});\n",
              "          if (!dataTable) return;\n",
              "\n",
              "          const docLinkHtml = 'Like what you see? Visit the ' +\n",
              "            '<a target=\"_blank\" href=https://colab.research.google.com/notebooks/data_table.ipynb>data table notebook</a>'\n",
              "            + ' to learn more about interactive tables.';\n",
              "          element.innerHTML = '';\n",
              "          dataTable['output_type'] = 'display_data';\n",
              "          await google.colab.output.renderOutput(dataTable, element);\n",
              "          const docLink = document.createElement('div');\n",
              "          docLink.innerHTML = docLinkHtml;\n",
              "          element.appendChild(docLink);\n",
              "        }\n",
              "      </script>\n",
              "    </div>\n",
              "  </div>\n",
              "  "
            ]
          },
          "metadata": {},
          "execution_count": 63
        }
      ]
    },
    {
      "cell_type": "code",
      "source": [
        "x_train['distancia'] = train['distancia']"
      ],
      "metadata": {
        "id": "0RFKBApcivs7"
      },
      "execution_count": null,
      "outputs": []
    },
    {
      "cell_type": "markdown",
      "source": [
        "## Antigüedad de la última reforma"
      ],
      "metadata": {
        "id": "C7OVpCrAKFWW"
      }
    },
    {
      "cell_type": "markdown",
      "source": [
        "El último año sí queremos sacarlo de toda la base, no hay nada específico del entrenamiento en el subconjunto de train."
      ],
      "metadata": {
        "id": "NHB3uCEcp7Zm"
      }
    },
    {
      "cell_type": "code",
      "source": [
        "data['yr_renovated'] = data.apply(lambda row: row['yr_built'] if row['yr_renovated']==0 else row['yr_renovated'], axis=1)\n",
        "data.head()"
      ],
      "metadata": {
        "colab": {
          "base_uri": "https://localhost:8080/",
          "height": 388
        },
        "id": "aKIhSbsPJUAO",
        "outputId": "f967bed5-10de-414d-bb03-3a5f62f5b0f1"
      },
      "execution_count": null,
      "outputs": [
        {
          "output_type": "execute_result",
          "data": {
            "text/plain": [
              "                 date     price  bedrooms  bathrooms  sqft_living  sqft_lot  \\\n",
              "id                                                                            \n",
              "7129300520 2014-10-13  221900.0         3       1.00         1180      5650   \n",
              "6414100192 2014-12-09  538000.0         3       2.25         2570      7242   \n",
              "5631500400 2015-02-25  180000.0         2       1.00          770     10000   \n",
              "2487200875 2014-12-09  604000.0         4       3.00         1960      5000   \n",
              "1954400510 2015-02-18  510000.0         3       2.00         1680      8080   \n",
              "\n",
              "            floors  waterfront  view  condition  grade  sqft_above  \\\n",
              "id                                                                   \n",
              "7129300520     1.0           0     0          3      7        1180   \n",
              "6414100192     2.0           0     0          3      7        2170   \n",
              "5631500400     1.0           0     0          3      6         770   \n",
              "2487200875     1.0           0     0          5      7        1050   \n",
              "1954400510     1.0           0     0          3      8        1680   \n",
              "\n",
              "            sqft_basement  yr_built  yr_renovated  zipcode      lat     long  \\\n",
              "id                                                                             \n",
              "7129300520              0      1955          1955    98178  47.5112 -122.257   \n",
              "6414100192            400      1951          1991    98125  47.7210 -122.319   \n",
              "5631500400              0      1933          1933    98028  47.7379 -122.233   \n",
              "2487200875            910      1965          1965    98136  47.5208 -122.393   \n",
              "1954400510              0      1987          1987    98074  47.6168 -122.045   \n",
              "\n",
              "            sqft_living15  sqft_lot15  \n",
              "id                                     \n",
              "7129300520           1340        5650  \n",
              "6414100192           1690        7639  \n",
              "5631500400           2720        8062  \n",
              "2487200875           1360        5000  \n",
              "1954400510           1800        7503  "
            ],
            "text/html": [
              "\n",
              "  <div id=\"df-0d9dd95a-2d6f-4942-b17d-da6d2d1a5ff6\">\n",
              "    <div class=\"colab-df-container\">\n",
              "      <div>\n",
              "<style scoped>\n",
              "    .dataframe tbody tr th:only-of-type {\n",
              "        vertical-align: middle;\n",
              "    }\n",
              "\n",
              "    .dataframe tbody tr th {\n",
              "        vertical-align: top;\n",
              "    }\n",
              "\n",
              "    .dataframe thead th {\n",
              "        text-align: right;\n",
              "    }\n",
              "</style>\n",
              "<table border=\"1\" class=\"dataframe\">\n",
              "  <thead>\n",
              "    <tr style=\"text-align: right;\">\n",
              "      <th></th>\n",
              "      <th>date</th>\n",
              "      <th>price</th>\n",
              "      <th>bedrooms</th>\n",
              "      <th>bathrooms</th>\n",
              "      <th>sqft_living</th>\n",
              "      <th>sqft_lot</th>\n",
              "      <th>floors</th>\n",
              "      <th>waterfront</th>\n",
              "      <th>view</th>\n",
              "      <th>condition</th>\n",
              "      <th>grade</th>\n",
              "      <th>sqft_above</th>\n",
              "      <th>sqft_basement</th>\n",
              "      <th>yr_built</th>\n",
              "      <th>yr_renovated</th>\n",
              "      <th>zipcode</th>\n",
              "      <th>lat</th>\n",
              "      <th>long</th>\n",
              "      <th>sqft_living15</th>\n",
              "      <th>sqft_lot15</th>\n",
              "    </tr>\n",
              "    <tr>\n",
              "      <th>id</th>\n",
              "      <th></th>\n",
              "      <th></th>\n",
              "      <th></th>\n",
              "      <th></th>\n",
              "      <th></th>\n",
              "      <th></th>\n",
              "      <th></th>\n",
              "      <th></th>\n",
              "      <th></th>\n",
              "      <th></th>\n",
              "      <th></th>\n",
              "      <th></th>\n",
              "      <th></th>\n",
              "      <th></th>\n",
              "      <th></th>\n",
              "      <th></th>\n",
              "      <th></th>\n",
              "      <th></th>\n",
              "      <th></th>\n",
              "      <th></th>\n",
              "    </tr>\n",
              "  </thead>\n",
              "  <tbody>\n",
              "    <tr>\n",
              "      <th>7129300520</th>\n",
              "      <td>2014-10-13</td>\n",
              "      <td>221900.0</td>\n",
              "      <td>3</td>\n",
              "      <td>1.00</td>\n",
              "      <td>1180</td>\n",
              "      <td>5650</td>\n",
              "      <td>1.0</td>\n",
              "      <td>0</td>\n",
              "      <td>0</td>\n",
              "      <td>3</td>\n",
              "      <td>7</td>\n",
              "      <td>1180</td>\n",
              "      <td>0</td>\n",
              "      <td>1955</td>\n",
              "      <td>1955</td>\n",
              "      <td>98178</td>\n",
              "      <td>47.5112</td>\n",
              "      <td>-122.257</td>\n",
              "      <td>1340</td>\n",
              "      <td>5650</td>\n",
              "    </tr>\n",
              "    <tr>\n",
              "      <th>6414100192</th>\n",
              "      <td>2014-12-09</td>\n",
              "      <td>538000.0</td>\n",
              "      <td>3</td>\n",
              "      <td>2.25</td>\n",
              "      <td>2570</td>\n",
              "      <td>7242</td>\n",
              "      <td>2.0</td>\n",
              "      <td>0</td>\n",
              "      <td>0</td>\n",
              "      <td>3</td>\n",
              "      <td>7</td>\n",
              "      <td>2170</td>\n",
              "      <td>400</td>\n",
              "      <td>1951</td>\n",
              "      <td>1991</td>\n",
              "      <td>98125</td>\n",
              "      <td>47.7210</td>\n",
              "      <td>-122.319</td>\n",
              "      <td>1690</td>\n",
              "      <td>7639</td>\n",
              "    </tr>\n",
              "    <tr>\n",
              "      <th>5631500400</th>\n",
              "      <td>2015-02-25</td>\n",
              "      <td>180000.0</td>\n",
              "      <td>2</td>\n",
              "      <td>1.00</td>\n",
              "      <td>770</td>\n",
              "      <td>10000</td>\n",
              "      <td>1.0</td>\n",
              "      <td>0</td>\n",
              "      <td>0</td>\n",
              "      <td>3</td>\n",
              "      <td>6</td>\n",
              "      <td>770</td>\n",
              "      <td>0</td>\n",
              "      <td>1933</td>\n",
              "      <td>1933</td>\n",
              "      <td>98028</td>\n",
              "      <td>47.7379</td>\n",
              "      <td>-122.233</td>\n",
              "      <td>2720</td>\n",
              "      <td>8062</td>\n",
              "    </tr>\n",
              "    <tr>\n",
              "      <th>2487200875</th>\n",
              "      <td>2014-12-09</td>\n",
              "      <td>604000.0</td>\n",
              "      <td>4</td>\n",
              "      <td>3.00</td>\n",
              "      <td>1960</td>\n",
              "      <td>5000</td>\n",
              "      <td>1.0</td>\n",
              "      <td>0</td>\n",
              "      <td>0</td>\n",
              "      <td>5</td>\n",
              "      <td>7</td>\n",
              "      <td>1050</td>\n",
              "      <td>910</td>\n",
              "      <td>1965</td>\n",
              "      <td>1965</td>\n",
              "      <td>98136</td>\n",
              "      <td>47.5208</td>\n",
              "      <td>-122.393</td>\n",
              "      <td>1360</td>\n",
              "      <td>5000</td>\n",
              "    </tr>\n",
              "    <tr>\n",
              "      <th>1954400510</th>\n",
              "      <td>2015-02-18</td>\n",
              "      <td>510000.0</td>\n",
              "      <td>3</td>\n",
              "      <td>2.00</td>\n",
              "      <td>1680</td>\n",
              "      <td>8080</td>\n",
              "      <td>1.0</td>\n",
              "      <td>0</td>\n",
              "      <td>0</td>\n",
              "      <td>3</td>\n",
              "      <td>8</td>\n",
              "      <td>1680</td>\n",
              "      <td>0</td>\n",
              "      <td>1987</td>\n",
              "      <td>1987</td>\n",
              "      <td>98074</td>\n",
              "      <td>47.6168</td>\n",
              "      <td>-122.045</td>\n",
              "      <td>1800</td>\n",
              "      <td>7503</td>\n",
              "    </tr>\n",
              "  </tbody>\n",
              "</table>\n",
              "</div>\n",
              "      <button class=\"colab-df-convert\" onclick=\"convertToInteractive('df-0d9dd95a-2d6f-4942-b17d-da6d2d1a5ff6')\"\n",
              "              title=\"Convert this dataframe to an interactive table.\"\n",
              "              style=\"display:none;\">\n",
              "        \n",
              "  <svg xmlns=\"http://www.w3.org/2000/svg\" height=\"24px\"viewBox=\"0 0 24 24\"\n",
              "       width=\"24px\">\n",
              "    <path d=\"M0 0h24v24H0V0z\" fill=\"none\"/>\n",
              "    <path d=\"M18.56 5.44l.94 2.06.94-2.06 2.06-.94-2.06-.94-.94-2.06-.94 2.06-2.06.94zm-11 1L8.5 8.5l.94-2.06 2.06-.94-2.06-.94L8.5 2.5l-.94 2.06-2.06.94zm10 10l.94 2.06.94-2.06 2.06-.94-2.06-.94-.94-2.06-.94 2.06-2.06.94z\"/><path d=\"M17.41 7.96l-1.37-1.37c-.4-.4-.92-.59-1.43-.59-.52 0-1.04.2-1.43.59L10.3 9.45l-7.72 7.72c-.78.78-.78 2.05 0 2.83L4 21.41c.39.39.9.59 1.41.59.51 0 1.02-.2 1.41-.59l7.78-7.78 2.81-2.81c.8-.78.8-2.07 0-2.86zM5.41 20L4 18.59l7.72-7.72 1.47 1.35L5.41 20z\"/>\n",
              "  </svg>\n",
              "      </button>\n",
              "      \n",
              "  <style>\n",
              "    .colab-df-container {\n",
              "      display:flex;\n",
              "      flex-wrap:wrap;\n",
              "      gap: 12px;\n",
              "    }\n",
              "\n",
              "    .colab-df-convert {\n",
              "      background-color: #E8F0FE;\n",
              "      border: none;\n",
              "      border-radius: 50%;\n",
              "      cursor: pointer;\n",
              "      display: none;\n",
              "      fill: #1967D2;\n",
              "      height: 32px;\n",
              "      padding: 0 0 0 0;\n",
              "      width: 32px;\n",
              "    }\n",
              "\n",
              "    .colab-df-convert:hover {\n",
              "      background-color: #E2EBFA;\n",
              "      box-shadow: 0px 1px 2px rgba(60, 64, 67, 0.3), 0px 1px 3px 1px rgba(60, 64, 67, 0.15);\n",
              "      fill: #174EA6;\n",
              "    }\n",
              "\n",
              "    [theme=dark] .colab-df-convert {\n",
              "      background-color: #3B4455;\n",
              "      fill: #D2E3FC;\n",
              "    }\n",
              "\n",
              "    [theme=dark] .colab-df-convert:hover {\n",
              "      background-color: #434B5C;\n",
              "      box-shadow: 0px 1px 3px 1px rgba(0, 0, 0, 0.15);\n",
              "      filter: drop-shadow(0px 1px 2px rgba(0, 0, 0, 0.3));\n",
              "      fill: #FFFFFF;\n",
              "    }\n",
              "  </style>\n",
              "\n",
              "      <script>\n",
              "        const buttonEl =\n",
              "          document.querySelector('#df-0d9dd95a-2d6f-4942-b17d-da6d2d1a5ff6 button.colab-df-convert');\n",
              "        buttonEl.style.display =\n",
              "          google.colab.kernel.accessAllowed ? 'block' : 'none';\n",
              "\n",
              "        async function convertToInteractive(key) {\n",
              "          const element = document.querySelector('#df-0d9dd95a-2d6f-4942-b17d-da6d2d1a5ff6');\n",
              "          const dataTable =\n",
              "            await google.colab.kernel.invokeFunction('convertToInteractive',\n",
              "                                                     [key], {});\n",
              "          if (!dataTable) return;\n",
              "\n",
              "          const docLinkHtml = 'Like what you see? Visit the ' +\n",
              "            '<a target=\"_blank\" href=https://colab.research.google.com/notebooks/data_table.ipynb>data table notebook</a>'\n",
              "            + ' to learn more about interactive tables.';\n",
              "          element.innerHTML = '';\n",
              "          dataTable['output_type'] = 'display_data';\n",
              "          await google.colab.output.renderOutput(dataTable, element);\n",
              "          const docLink = document.createElement('div');\n",
              "          docLink.innerHTML = docLinkHtml;\n",
              "          element.appendChild(docLink);\n",
              "        }\n",
              "      </script>\n",
              "    </div>\n",
              "  </div>\n",
              "  "
            ]
          },
          "metadata": {},
          "execution_count": 65
        }
      ]
    },
    {
      "cell_type": "code",
      "source": [
        "last = max(data['yr_renovated'])\n",
        "x_train['reforma'] = last-x_train['yr_renovated']\n",
        "x_train.head()"
      ],
      "metadata": {
        "colab": {
          "base_uri": "https://localhost:8080/",
          "height": 331
        },
        "id": "YqaSIJOgPPqu",
        "outputId": "5adbda20-d318-40dc-9cc7-7aaf2190b9f5"
      },
      "execution_count": null,
      "outputs": [
        {
          "output_type": "execute_result",
          "data": {
            "text/plain": [
              "            bedrooms  bathrooms  sqft_living  sqft_lot  floors  waterfront  \\\n",
              "id                                                                           \n",
              "2126059295         5       4.50         4280      8465     2.0           0   \n",
              "1250202660         4       1.00         2290      6300     1.5           0   \n",
              "6804600240         3       1.75         1920      9512     1.0           0   \n",
              "6788201781         4       2.00         2660      3900     1.5           0   \n",
              "293070270          4       3.50         3560      4951     2.0           0   \n",
              "\n",
              "            view  condition  grade  sqft_above  ...  yr_built  yr_renovated  \\\n",
              "id                                              ...                           \n",
              "2126059295     0          3     10        4280  ...      2014             0   \n",
              "1250202660     4          4      7        2150  ...      1921             0   \n",
              "6804600240     0          3      8        1440  ...      1980             0   \n",
              "6788201781     0          4      7        1480  ...      1923             0   \n",
              "293070270      0          3      9        3560  ...      2014             0   \n",
              "\n",
              "            zipcode      lat     long  sqft_living15  sqft_lot15  sqft_ratio  \\\n",
              "id                                                                             \n",
              "2126059295    98034  47.7325 -122.165           2990       11067    0.505611   \n",
              "1250202660    98144  47.5917 -122.290           2390        6300    0.363492   \n",
              "6804600240    98011  47.7606 -122.167           1820        9512    0.201850   \n",
              "6788201781    98112  47.6398 -122.306           2350        3900    0.682051   \n",
              "293070270     98074  47.6178 -122.055           3540        5500    0.719047   \n",
              "\n",
              "            distancia  reforma  \n",
              "id                              \n",
              "2126059295   0.154651     2015  \n",
              "1250202660   0.079666     2015  \n",
              "6804600240   0.181197     2015  \n",
              "6788201781   0.110117     2015  \n",
              "293070270    0.159112     2015  \n",
              "\n",
              "[5 rows x 21 columns]"
            ],
            "text/html": [
              "\n",
              "  <div id=\"df-f03515f1-9305-4840-b1c3-325d2c3d4057\">\n",
              "    <div class=\"colab-df-container\">\n",
              "      <div>\n",
              "<style scoped>\n",
              "    .dataframe tbody tr th:only-of-type {\n",
              "        vertical-align: middle;\n",
              "    }\n",
              "\n",
              "    .dataframe tbody tr th {\n",
              "        vertical-align: top;\n",
              "    }\n",
              "\n",
              "    .dataframe thead th {\n",
              "        text-align: right;\n",
              "    }\n",
              "</style>\n",
              "<table border=\"1\" class=\"dataframe\">\n",
              "  <thead>\n",
              "    <tr style=\"text-align: right;\">\n",
              "      <th></th>\n",
              "      <th>bedrooms</th>\n",
              "      <th>bathrooms</th>\n",
              "      <th>sqft_living</th>\n",
              "      <th>sqft_lot</th>\n",
              "      <th>floors</th>\n",
              "      <th>waterfront</th>\n",
              "      <th>view</th>\n",
              "      <th>condition</th>\n",
              "      <th>grade</th>\n",
              "      <th>sqft_above</th>\n",
              "      <th>...</th>\n",
              "      <th>yr_built</th>\n",
              "      <th>yr_renovated</th>\n",
              "      <th>zipcode</th>\n",
              "      <th>lat</th>\n",
              "      <th>long</th>\n",
              "      <th>sqft_living15</th>\n",
              "      <th>sqft_lot15</th>\n",
              "      <th>sqft_ratio</th>\n",
              "      <th>distancia</th>\n",
              "      <th>reforma</th>\n",
              "    </tr>\n",
              "    <tr>\n",
              "      <th>id</th>\n",
              "      <th></th>\n",
              "      <th></th>\n",
              "      <th></th>\n",
              "      <th></th>\n",
              "      <th></th>\n",
              "      <th></th>\n",
              "      <th></th>\n",
              "      <th></th>\n",
              "      <th></th>\n",
              "      <th></th>\n",
              "      <th></th>\n",
              "      <th></th>\n",
              "      <th></th>\n",
              "      <th></th>\n",
              "      <th></th>\n",
              "      <th></th>\n",
              "      <th></th>\n",
              "      <th></th>\n",
              "      <th></th>\n",
              "      <th></th>\n",
              "      <th></th>\n",
              "    </tr>\n",
              "  </thead>\n",
              "  <tbody>\n",
              "    <tr>\n",
              "      <th>2126059295</th>\n",
              "      <td>5</td>\n",
              "      <td>4.50</td>\n",
              "      <td>4280</td>\n",
              "      <td>8465</td>\n",
              "      <td>2.0</td>\n",
              "      <td>0</td>\n",
              "      <td>0</td>\n",
              "      <td>3</td>\n",
              "      <td>10</td>\n",
              "      <td>4280</td>\n",
              "      <td>...</td>\n",
              "      <td>2014</td>\n",
              "      <td>0</td>\n",
              "      <td>98034</td>\n",
              "      <td>47.7325</td>\n",
              "      <td>-122.165</td>\n",
              "      <td>2990</td>\n",
              "      <td>11067</td>\n",
              "      <td>0.505611</td>\n",
              "      <td>0.154651</td>\n",
              "      <td>2015</td>\n",
              "    </tr>\n",
              "    <tr>\n",
              "      <th>1250202660</th>\n",
              "      <td>4</td>\n",
              "      <td>1.00</td>\n",
              "      <td>2290</td>\n",
              "      <td>6300</td>\n",
              "      <td>1.5</td>\n",
              "      <td>0</td>\n",
              "      <td>4</td>\n",
              "      <td>4</td>\n",
              "      <td>7</td>\n",
              "      <td>2150</td>\n",
              "      <td>...</td>\n",
              "      <td>1921</td>\n",
              "      <td>0</td>\n",
              "      <td>98144</td>\n",
              "      <td>47.5917</td>\n",
              "      <td>-122.290</td>\n",
              "      <td>2390</td>\n",
              "      <td>6300</td>\n",
              "      <td>0.363492</td>\n",
              "      <td>0.079666</td>\n",
              "      <td>2015</td>\n",
              "    </tr>\n",
              "    <tr>\n",
              "      <th>6804600240</th>\n",
              "      <td>3</td>\n",
              "      <td>1.75</td>\n",
              "      <td>1920</td>\n",
              "      <td>9512</td>\n",
              "      <td>1.0</td>\n",
              "      <td>0</td>\n",
              "      <td>0</td>\n",
              "      <td>3</td>\n",
              "      <td>8</td>\n",
              "      <td>1440</td>\n",
              "      <td>...</td>\n",
              "      <td>1980</td>\n",
              "      <td>0</td>\n",
              "      <td>98011</td>\n",
              "      <td>47.7606</td>\n",
              "      <td>-122.167</td>\n",
              "      <td>1820</td>\n",
              "      <td>9512</td>\n",
              "      <td>0.201850</td>\n",
              "      <td>0.181197</td>\n",
              "      <td>2015</td>\n",
              "    </tr>\n",
              "    <tr>\n",
              "      <th>6788201781</th>\n",
              "      <td>4</td>\n",
              "      <td>2.00</td>\n",
              "      <td>2660</td>\n",
              "      <td>3900</td>\n",
              "      <td>1.5</td>\n",
              "      <td>0</td>\n",
              "      <td>0</td>\n",
              "      <td>4</td>\n",
              "      <td>7</td>\n",
              "      <td>1480</td>\n",
              "      <td>...</td>\n",
              "      <td>1923</td>\n",
              "      <td>0</td>\n",
              "      <td>98112</td>\n",
              "      <td>47.6398</td>\n",
              "      <td>-122.306</td>\n",
              "      <td>2350</td>\n",
              "      <td>3900</td>\n",
              "      <td>0.682051</td>\n",
              "      <td>0.110117</td>\n",
              "      <td>2015</td>\n",
              "    </tr>\n",
              "    <tr>\n",
              "      <th>293070270</th>\n",
              "      <td>4</td>\n",
              "      <td>3.50</td>\n",
              "      <td>3560</td>\n",
              "      <td>4951</td>\n",
              "      <td>2.0</td>\n",
              "      <td>0</td>\n",
              "      <td>0</td>\n",
              "      <td>3</td>\n",
              "      <td>9</td>\n",
              "      <td>3560</td>\n",
              "      <td>...</td>\n",
              "      <td>2014</td>\n",
              "      <td>0</td>\n",
              "      <td>98074</td>\n",
              "      <td>47.6178</td>\n",
              "      <td>-122.055</td>\n",
              "      <td>3540</td>\n",
              "      <td>5500</td>\n",
              "      <td>0.719047</td>\n",
              "      <td>0.159112</td>\n",
              "      <td>2015</td>\n",
              "    </tr>\n",
              "  </tbody>\n",
              "</table>\n",
              "<p>5 rows × 21 columns</p>\n",
              "</div>\n",
              "      <button class=\"colab-df-convert\" onclick=\"convertToInteractive('df-f03515f1-9305-4840-b1c3-325d2c3d4057')\"\n",
              "              title=\"Convert this dataframe to an interactive table.\"\n",
              "              style=\"display:none;\">\n",
              "        \n",
              "  <svg xmlns=\"http://www.w3.org/2000/svg\" height=\"24px\"viewBox=\"0 0 24 24\"\n",
              "       width=\"24px\">\n",
              "    <path d=\"M0 0h24v24H0V0z\" fill=\"none\"/>\n",
              "    <path d=\"M18.56 5.44l.94 2.06.94-2.06 2.06-.94-2.06-.94-.94-2.06-.94 2.06-2.06.94zm-11 1L8.5 8.5l.94-2.06 2.06-.94-2.06-.94L8.5 2.5l-.94 2.06-2.06.94zm10 10l.94 2.06.94-2.06 2.06-.94-2.06-.94-.94-2.06-.94 2.06-2.06.94z\"/><path d=\"M17.41 7.96l-1.37-1.37c-.4-.4-.92-.59-1.43-.59-.52 0-1.04.2-1.43.59L10.3 9.45l-7.72 7.72c-.78.78-.78 2.05 0 2.83L4 21.41c.39.39.9.59 1.41.59.51 0 1.02-.2 1.41-.59l7.78-7.78 2.81-2.81c.8-.78.8-2.07 0-2.86zM5.41 20L4 18.59l7.72-7.72 1.47 1.35L5.41 20z\"/>\n",
              "  </svg>\n",
              "      </button>\n",
              "      \n",
              "  <style>\n",
              "    .colab-df-container {\n",
              "      display:flex;\n",
              "      flex-wrap:wrap;\n",
              "      gap: 12px;\n",
              "    }\n",
              "\n",
              "    .colab-df-convert {\n",
              "      background-color: #E8F0FE;\n",
              "      border: none;\n",
              "      border-radius: 50%;\n",
              "      cursor: pointer;\n",
              "      display: none;\n",
              "      fill: #1967D2;\n",
              "      height: 32px;\n",
              "      padding: 0 0 0 0;\n",
              "      width: 32px;\n",
              "    }\n",
              "\n",
              "    .colab-df-convert:hover {\n",
              "      background-color: #E2EBFA;\n",
              "      box-shadow: 0px 1px 2px rgba(60, 64, 67, 0.3), 0px 1px 3px 1px rgba(60, 64, 67, 0.15);\n",
              "      fill: #174EA6;\n",
              "    }\n",
              "\n",
              "    [theme=dark] .colab-df-convert {\n",
              "      background-color: #3B4455;\n",
              "      fill: #D2E3FC;\n",
              "    }\n",
              "\n",
              "    [theme=dark] .colab-df-convert:hover {\n",
              "      background-color: #434B5C;\n",
              "      box-shadow: 0px 1px 3px 1px rgba(0, 0, 0, 0.15);\n",
              "      filter: drop-shadow(0px 1px 2px rgba(0, 0, 0, 0.3));\n",
              "      fill: #FFFFFF;\n",
              "    }\n",
              "  </style>\n",
              "\n",
              "      <script>\n",
              "        const buttonEl =\n",
              "          document.querySelector('#df-f03515f1-9305-4840-b1c3-325d2c3d4057 button.colab-df-convert');\n",
              "        buttonEl.style.display =\n",
              "          google.colab.kernel.accessAllowed ? 'block' : 'none';\n",
              "\n",
              "        async function convertToInteractive(key) {\n",
              "          const element = document.querySelector('#df-f03515f1-9305-4840-b1c3-325d2c3d4057');\n",
              "          const dataTable =\n",
              "            await google.colab.kernel.invokeFunction('convertToInteractive',\n",
              "                                                     [key], {});\n",
              "          if (!dataTable) return;\n",
              "\n",
              "          const docLinkHtml = 'Like what you see? Visit the ' +\n",
              "            '<a target=\"_blank\" href=https://colab.research.google.com/notebooks/data_table.ipynb>data table notebook</a>'\n",
              "            + ' to learn more about interactive tables.';\n",
              "          element.innerHTML = '';\n",
              "          dataTable['output_type'] = 'display_data';\n",
              "          await google.colab.output.renderOutput(dataTable, element);\n",
              "          const docLink = document.createElement('div');\n",
              "          docLink.innerHTML = docLinkHtml;\n",
              "          element.appendChild(docLink);\n",
              "        }\n",
              "      </script>\n",
              "    </div>\n",
              "  </div>\n",
              "  "
            ]
          },
          "metadata": {},
          "execution_count": 66
        }
      ]
    },
    {
      "cell_type": "code",
      "source": [
        "sns.heatmap(x_train.drop(['floors', 'waterfront', 'view', 'condition', 'zipcode', 'lat', 'long'], axis=1).corr(), cmap='cividis')"
      ],
      "metadata": {
        "colab": {
          "base_uri": "https://localhost:8080/",
          "height": 541
        },
        "id": "i_nAnNmgjugF",
        "outputId": "6cb079aa-b023-455c-b262-8cb4f0b3f846"
      },
      "execution_count": null,
      "outputs": [
        {
          "output_type": "execute_result",
          "data": {
            "text/plain": [
              "<Axes: >"
            ]
          },
          "metadata": {},
          "execution_count": 67
        },
        {
          "output_type": "display_data",
          "data": {
            "text/plain": [
              "<Figure size 640x480 with 2 Axes>"
            ],
            "image/png": "[encoded data removed]"
          },
          "metadata": {}
        }
      ]
    },
    {
      "cell_type": "markdown",
      "source": [
        "El número de habitaciones y baños y *grade* no son variables continuas, pero tienen un rango suficiente como para ser interesantes en la matriz de correlaciones."
      ],
      "metadata": {
        "id": "7RvuQOzQkC2i"
      }
    },
    {
      "cell_type": "markdown",
      "source": [
        "# Algoritmos"
      ],
      "metadata": {
        "id": "oCHc5FtTjHNr"
      }
    },
    {
      "cell_type": "code",
      "source": [
        "x_train.head()"
      ],
      "metadata": {
        "colab": {
          "base_uri": "https://localhost:8080/",
          "height": 331
        },
        "id": "FdYmaFMkrucl",
        "outputId": "8e42a472-e4cb-4a74-d8af-62aa480259ad"
      },
      "execution_count": null,
      "outputs": [
        {
          "output_type": "execute_result",
          "data": {
            "text/plain": [
              "            bedrooms  bathrooms  sqft_living  sqft_lot  floors  waterfront  \\\n",
              "id                                                                           \n",
              "2126059295         5       4.50         4280      8465     2.0           0   \n",
              "1250202660         4       1.00         2290      6300     1.5           0   \n",
              "6804600240         3       1.75         1920      9512     1.0           0   \n",
              "6788201781         4       2.00         2660      3900     1.5           0   \n",
              "293070270          4       3.50         3560      4951     2.0           0   \n",
              "\n",
              "            view  condition  grade  sqft_above  ...  yr_built  yr_renovated  \\\n",
              "id                                              ...                           \n",
              "2126059295     0          3     10        4280  ...      2014             0   \n",
              "1250202660     4          4      7        2150  ...      1921             0   \n",
              "6804600240     0          3      8        1440  ...      1980             0   \n",
              "6788201781     0          4      7        1480  ...      1923             0   \n",
              "293070270      0          3      9        3560  ...      2014             0   \n",
              "\n",
              "            zipcode      lat     long  sqft_living15  sqft_lot15  sqft_ratio  \\\n",
              "id                                                                             \n",
              "2126059295    98034  47.7325 -122.165           2990       11067    0.505611   \n",
              "1250202660    98144  47.5917 -122.290           2390        6300    0.363492   \n",
              "6804600240    98011  47.7606 -122.167           1820        9512    0.201850   \n",
              "6788201781    98112  47.6398 -122.306           2350        3900    0.682051   \n",
              "293070270     98074  47.6178 -122.055           3540        5500    0.719047   \n",
              "\n",
              "            distancia  reforma  \n",
              "id                              \n",
              "2126059295   0.154651     2015  \n",
              "1250202660   0.079666     2015  \n",
              "6804600240   0.181197     2015  \n",
              "6788201781   0.110117     2015  \n",
              "293070270    0.159112     2015  \n",
              "\n",
              "[5 rows x 21 columns]"
            ],
            "text/html": [
              "\n",
              "  <div id=\"df-ed477536-cf4e-47fa-9a21-537eb91c6ccb\">\n",
              "    <div class=\"colab-df-container\">\n",
              "      <div>\n",
              "<style scoped>\n",
              "    .dataframe tbody tr th:only-of-type {\n",
              "        vertical-align: middle;\n",
              "    }\n",
              "\n",
              "    .dataframe tbody tr th {\n",
              "        vertical-align: top;\n",
              "    }\n",
              "\n",
              "    .dataframe thead th {\n",
              "        text-align: right;\n",
              "    }\n",
              "</style>\n",
              "<table border=\"1\" class=\"dataframe\">\n",
              "  <thead>\n",
              "    <tr style=\"text-align: right;\">\n",
              "      <th></th>\n",
              "      <th>bedrooms</th>\n",
              "      <th>bathrooms</th>\n",
              "      <th>sqft_living</th>\n",
              "      <th>sqft_lot</th>\n",
              "      <th>floors</th>\n",
              "      <th>waterfront</th>\n",
              "      <th>view</th>\n",
              "      <th>condition</th>\n",
              "      <th>grade</th>\n",
              "      <th>sqft_above</th>\n",
              "      <th>...</th>\n",
              "      <th>yr_built</th>\n",
              "      <th>yr_renovated</th>\n",
              "      <th>zipcode</th>\n",
              "      <th>lat</th>\n",
              "      <th>long</th>\n",
              "      <th>sqft_living15</th>\n",
              "      <th>sqft_lot15</th>\n",
              "      <th>sqft_ratio</th>\n",
              "      <th>distancia</th>\n",
              "      <th>reforma</th>\n",
              "    </tr>\n",
              "    <tr>\n",
              "      <th>id</th>\n",
              "      <th></th>\n",
              "      <th></th>\n",
              "      <th></th>\n",
              "      <th></th>\n",
              "      <th></th>\n",
              "      <th></th>\n",
              "      <th></th>\n",
              "      <th></th>\n",
              "      <th></th>\n",
              "      <th></th>\n",
              "      <th></th>\n",
              "      <th></th>\n",
              "      <th></th>\n",
              "      <th></th>\n",
              "      <th></th>\n",
              "      <th></th>\n",
              "      <th></th>\n",
              "      <th></th>\n",
              "      <th></th>\n",
              "      <th></th>\n",
              "      <th></th>\n",
              "    </tr>\n",
              "  </thead>\n",
              "  <tbody>\n",
              "    <tr>\n",
              "      <th>2126059295</th>\n",
              "      <td>5</td>\n",
              "      <td>4.50</td>\n",
              "      <td>4280</td>\n",
              "      <td>8465</td>\n",
              "      <td>2.0</td>\n",
              "      <td>0</td>\n",
              "      <td>0</td>\n",
              "      <td>3</td>\n",
              "      <td>10</td>\n",
              "      <td>4280</td>\n",
              "      <td>...</td>\n",
              "      <td>2014</td>\n",
              "      <td>0</td>\n",
              "      <td>98034</td>\n",
              "      <td>47.7325</td>\n",
              "      <td>-122.165</td>\n",
              "      <td>2990</td>\n",
              "      <td>11067</td>\n",
              "      <td>0.505611</td>\n",
              "      <td>0.154651</td>\n",
              "      <td>2015</td>\n",
              "    </tr>\n",
              "    <tr>\n",
              "      <th>1250202660</th>\n",
              "      <td>4</td>\n",
              "      <td>1.00</td>\n",
              "      <td>2290</td>\n",
              "      <td>6300</td>\n",
              "      <td>1.5</td>\n",
              "      <td>0</td>\n",
              "      <td>4</td>\n",
              "      <td>4</td>\n",
              "      <td>7</td>\n",
              "      <td>2150</td>\n",
              "      <td>...</td>\n",
              "      <td>1921</td>\n",
              "      <td>0</td>\n",
              "      <td>98144</td>\n",
              "      <td>47.5917</td>\n",
              "      <td>-122.290</td>\n",
              "      <td>2390</td>\n",
              "      <td>6300</td>\n",
              "      <td>0.363492</td>\n",
              "      <td>0.079666</td>\n",
              "      <td>2015</td>\n",
              "    </tr>\n",
              "    <tr>\n",
              "      <th>6804600240</th>\n",
              "      <td>3</td>\n",
              "      <td>1.75</td>\n",
              "      <td>1920</td>\n",
              "      <td>9512</td>\n",
              "      <td>1.0</td>\n",
              "      <td>0</td>\n",
              "      <td>0</td>\n",
              "      <td>3</td>\n",
              "      <td>8</td>\n",
              "      <td>1440</td>\n",
              "      <td>...</td>\n",
              "      <td>1980</td>\n",
              "      <td>0</td>\n",
              "      <td>98011</td>\n",
              "      <td>47.7606</td>\n",
              "      <td>-122.167</td>\n",
              "      <td>1820</td>\n",
              "      <td>9512</td>\n",
              "      <td>0.201850</td>\n",
              "      <td>0.181197</td>\n",
              "      <td>2015</td>\n",
              "    </tr>\n",
              "    <tr>\n",
              "      <th>6788201781</th>\n",
              "      <td>4</td>\n",
              "      <td>2.00</td>\n",
              "      <td>2660</td>\n",
              "      <td>3900</td>\n",
              "      <td>1.5</td>\n",
              "      <td>0</td>\n",
              "      <td>0</td>\n",
              "      <td>4</td>\n",
              "      <td>7</td>\n",
              "      <td>1480</td>\n",
              "      <td>...</td>\n",
              "      <td>1923</td>\n",
              "      <td>0</td>\n",
              "      <td>98112</td>\n",
              "      <td>47.6398</td>\n",
              "      <td>-122.306</td>\n",
              "      <td>2350</td>\n",
              "      <td>3900</td>\n",
              "      <td>0.682051</td>\n",
              "      <td>0.110117</td>\n",
              "      <td>2015</td>\n",
              "    </tr>\n",
              "    <tr>\n",
              "      <th>293070270</th>\n",
              "      <td>4</td>\n",
              "      <td>3.50</td>\n",
              "      <td>3560</td>\n",
              "      <td>4951</td>\n",
              "      <td>2.0</td>\n",
              "      <td>0</td>\n",
              "      <td>0</td>\n",
              "      <td>3</td>\n",
              "      <td>9</td>\n",
              "      <td>3560</td>\n",
              "      <td>...</td>\n",
              "      <td>2014</td>\n",
              "      <td>0</td>\n",
              "      <td>98074</td>\n",
              "      <td>47.6178</td>\n",
              "      <td>-122.055</td>\n",
              "      <td>3540</td>\n",
              "      <td>5500</td>\n",
              "      <td>0.719047</td>\n",
              "      <td>0.159112</td>\n",
              "      <td>2015</td>\n",
              "    </tr>\n",
              "  </tbody>\n",
              "</table>\n",
              "<p>5 rows × 21 columns</p>\n",
              "</div>\n",
              "      <button class=\"colab-df-convert\" onclick=\"convertToInteractive('df-ed477536-cf4e-47fa-9a21-537eb91c6ccb')\"\n",
              "              title=\"Convert this dataframe to an interactive table.\"\n",
              "              style=\"display:none;\">\n",
              "        \n",
              "  <svg xmlns=\"http://www.w3.org/2000/svg\" height=\"24px\"viewBox=\"0 0 24 24\"\n",
              "       width=\"24px\">\n",
              "    <path d=\"M0 0h24v24H0V0z\" fill=\"none\"/>\n",
              "    <path d=\"M18.56 5.44l.94 2.06.94-2.06 2.06-.94-2.06-.94-.94-2.06-.94 2.06-2.06.94zm-11 1L8.5 8.5l.94-2.06 2.06-.94-2.06-.94L8.5 2.5l-.94 2.06-2.06.94zm10 10l.94 2.06.94-2.06 2.06-.94-2.06-.94-.94-2.06-.94 2.06-2.06.94z\"/><path d=\"M17.41 7.96l-1.37-1.37c-.4-.4-.92-.59-1.43-.59-.52 0-1.04.2-1.43.59L10.3 9.45l-7.72 7.72c-.78.78-.78 2.05 0 2.83L4 21.41c.39.39.9.59 1.41.59.51 0 1.02-.2 1.41-.59l7.78-7.78 2.81-2.81c.8-.78.8-2.07 0-2.86zM5.41 20L4 18.59l7.72-7.72 1.47 1.35L5.41 20z\"/>\n",
              "  </svg>\n",
              "      </button>\n",
              "      \n",
              "  <style>\n",
              "    .colab-df-container {\n",
              "      display:flex;\n",
              "      flex-wrap:wrap;\n",
              "      gap: 12px;\n",
              "    }\n",
              "\n",
              "    .colab-df-convert {\n",
              "      background-color: #E8F0FE;\n",
              "      border: none;\n",
              "      border-radius: 50%;\n",
              "      cursor: pointer;\n",
              "      display: none;\n",
              "      fill: #1967D2;\n",
              "      height: 32px;\n",
              "      padding: 0 0 0 0;\n",
              "      width: 32px;\n",
              "    }\n",
              "\n",
              "    .colab-df-convert:hover {\n",
              "      background-color: #E2EBFA;\n",
              "      box-shadow: 0px 1px 2px rgba(60, 64, 67, 0.3), 0px 1px 3px 1px rgba(60, 64, 67, 0.15);\n",
              "      fill: #174EA6;\n",
              "    }\n",
              "\n",
              "    [theme=dark] .colab-df-convert {\n",
              "      background-color: #3B4455;\n",
              "      fill: #D2E3FC;\n",
              "    }\n",
              "\n",
              "    [theme=dark] .colab-df-convert:hover {\n",
              "      background-color: #434B5C;\n",
              "      box-shadow: 0px 1px 3px 1px rgba(0, 0, 0, 0.15);\n",
              "      filter: drop-shadow(0px 1px 2px rgba(0, 0, 0, 0.3));\n",
              "      fill: #FFFFFF;\n",
              "    }\n",
              "  </style>\n",
              "\n",
              "      <script>\n",
              "        const buttonEl =\n",
              "          document.querySelector('#df-ed477536-cf4e-47fa-9a21-537eb91c6ccb button.colab-df-convert');\n",
              "        buttonEl.style.display =\n",
              "          google.colab.kernel.accessAllowed ? 'block' : 'none';\n",
              "\n",
              "        async function convertToInteractive(key) {\n",
              "          const element = document.querySelector('#df-ed477536-cf4e-47fa-9a21-537eb91c6ccb');\n",
              "          const dataTable =\n",
              "            await google.colab.kernel.invokeFunction('convertToInteractive',\n",
              "                                                     [key], {});\n",
              "          if (!dataTable) return;\n",
              "\n",
              "          const docLinkHtml = 'Like what you see? Visit the ' +\n",
              "            '<a target=\"_blank\" href=https://colab.research.google.com/notebooks/data_table.ipynb>data table notebook</a>'\n",
              "            + ' to learn more about interactive tables.';\n",
              "          element.innerHTML = '';\n",
              "          dataTable['output_type'] = 'display_data';\n",
              "          await google.colab.output.renderOutput(dataTable, element);\n",
              "          const docLink = document.createElement('div');\n",
              "          docLink.innerHTML = docLinkHtml;\n",
              "          element.appendChild(docLink);\n",
              "        }\n",
              "      </script>\n",
              "    </div>\n",
              "  </div>\n",
              "  "
            ]
          },
          "metadata": {},
          "execution_count": 68
        }
      ]
    },
    {
      "cell_type": "markdown",
      "source": [
        "Realizamos el mismo preprocesado en los subconjuntos de validación y de test."
      ],
      "metadata": {
        "id": "FXDdft6Fkbxa"
      }
    },
    {
      "cell_type": "code",
      "source": [
        "x_test, y_test = test.drop(['date', 'price'], axis=1), test['price']\n",
        "\n",
        "x_test['sqft_ratio'] = x_test['sqft_living']/x_test['sqft_lot']\n",
        "\n",
        "x_test['distancia'] = x_test.apply(lambda row: f(row['long'], row['lat']), axis=1)\n",
        "\n",
        "x_test['reforma'] = last-x_test['yr_renovated']"
      ],
      "metadata": {
        "id": "Np3Z6BtSpr5l"
      },
      "execution_count": null,
      "outputs": []
    },
    {
      "cell_type": "code",
      "source": [
        "x_train = x_train.drop(['yr_renovated', 'zipcode', 'long'], axis=1)\n",
        "x_test = x_test.drop(['yr_renovated', 'zipcode', 'long'], axis=1)"
      ],
      "metadata": {
        "id": "wLfc0lZYtmK2"
      },
      "execution_count": null,
      "outputs": []
    },
    {
      "cell_type": "markdown",
      "source": [
        "Además, eliminamos algunas de las variables que consideramos contenidas en las nuevas que hemos creado. El resto las dejamos porque, aunque tengan relación, puede ser interesante considerar alguna combinación.\n",
        "\n",
        "Por ejemplo, una casa renovada recientemente no implica que haya sido construida hace poco, y la distancia al centro de masas no localiza una casa del todo."
      ],
      "metadata": {
        "id": "UPsnA0pCtzgw"
      }
    },
    {
      "cell_type": "code",
      "source": [
        "scaler = StandardScaler()\n",
        "scaler.fit(x_train)\n",
        "x_scaled = scaler.transform(x_train)\n",
        "\n",
        "test_scaled = scaler.transform(x_test)"
      ],
      "metadata": {
        "id": "c2JzyM12MD9I"
      },
      "execution_count": null,
      "outputs": []
    },
    {
      "cell_type": "markdown",
      "source": [
        "Por último, preparamos el escalado de los datos para aquellos algoritmos que lo requieran."
      ],
      "metadata": {
        "id": "jUbKoDcoMFdC"
      }
    },
    {
      "cell_type": "markdown",
      "source": [
        "## Regresión Lineal"
      ],
      "metadata": {
        "id": "_NraYCSik4nU"
      }
    },
    {
      "cell_type": "code",
      "source": [
        "from sklearn.linear_model import LinearRegression\n",
        "\n",
        "lm = LinearRegression()"
      ],
      "metadata": {
        "id": "ONVYdzObkoeP"
      },
      "execution_count": null,
      "outputs": []
    },
    {
      "cell_type": "code",
      "source": [
        "lm.fit(x_scaled, log_precios)"
      ],
      "metadata": {
        "colab": {
          "base_uri": "https://localhost:8080/",
          "height": 74
        },
        "id": "XJ1eXCeanDyZ",
        "outputId": "1a8c6609-e4ac-4f9e-f3eb-fafbc1170cdd"
      },
      "execution_count": null,
      "outputs": [
        {
          "output_type": "execute_result",
          "data": {
            "text/plain": [
              "LinearRegression()"
            ],
            "text/html": [
              "<style>#sk-container-id-2 {color: black;background-color: white;}#sk-container-id-2 pre{padding: 0;}#sk-container-id-2 div.sk-toggleable {background-color: white;}#sk-container-id-2 label.sk-toggleable__label {cursor: pointer;display: block;width: 100%;margin-bottom: 0;padding: 0.3em;box-sizing: border-box;text-align: center;}#sk-container-id-2 label.sk-toggleable__label-arrow:before {content: \"▸\";float: left;margin-right: 0.25em;color: #696969;}#sk-container-id-2 label.sk-toggleable__label-arrow:hover:before {color: black;}#sk-container-id-2 div.sk-estimator:hover label.sk-toggleable__label-arrow:before {color: black;}#sk-container-id-2 div.sk-toggleable__content {max-height: 0;max-width: 0;overflow: hidden;text-align: left;background-color: #f0f8ff;}#sk-container-id-2 div.sk-toggleable__content pre {margin: 0.2em;color: black;border-radius: 0.25em;background-color: #f0f8ff;}#sk-container-id-2 input.sk-toggleable__control:checked~div.sk-toggleable__content {max-height: 200px;max-width: 100%;overflow: auto;}#sk-container-id-2 input.sk-toggleable__control:checked~label.sk-toggleable__label-arrow:before {content: \"▾\";}#sk-container-id-2 div.sk-estimator input.sk-toggleable__control:checked~label.sk-toggleable__label {background-color: #d4ebff;}#sk-container-id-2 div.sk-label input.sk-toggleable__control:checked~label.sk-toggleable__label {background-color: #d4ebff;}#sk-container-id-2 input.sk-hidden--visually {border: 0;clip: rect(1px 1px 1px 1px);clip: rect(1px, 1px, 1px, 1px);height: 1px;margin: -1px;overflow: hidden;padding: 0;position: absolute;width: 1px;}#sk-container-id-2 div.sk-estimator {font-family: monospace;background-color: #f0f8ff;border: 1px dotted black;border-radius: 0.25em;box-sizing: border-box;margin-bottom: 0.5em;}#sk-container-id-2 div.sk-estimator:hover {background-color: #d4ebff;}#sk-container-id-2 div.sk-parallel-item::after {content: \"\";width: 100%;border-bottom: 1px solid gray;flex-grow: 1;}#sk-container-id-2 div.sk-label:hover label.sk-toggleable__label {background-color: #d4ebff;}#sk-container-id-2 div.sk-serial::before {content: \"\";position: absolute;border-left: 1px solid gray;box-sizing: border-box;top: 0;bottom: 0;left: 50%;z-index: 0;}#sk-container-id-2 div.sk-serial {display: flex;flex-direction: column;align-items: center;background-color: white;padding-right: 0.2em;padding-left: 0.2em;position: relative;}#sk-container-id-2 div.sk-item {position: relative;z-index: 1;}#sk-container-id-2 div.sk-parallel {display: flex;align-items: stretch;justify-content: center;background-color: white;position: relative;}#sk-container-id-2 div.sk-item::before, #sk-container-id-2 div.sk-parallel-item::before {content: \"\";position: absolute;border-left: 1px solid gray;box-sizing: border-box;top: 0;bottom: 0;left: 50%;z-index: -1;}#sk-container-id-2 div.sk-parallel-item {display: flex;flex-direction: column;z-index: 1;position: relative;background-color: white;}#sk-container-id-2 div.sk-parallel-item:first-child::after {align-self: flex-end;width: 50%;}#sk-container-id-2 div.sk-parallel-item:last-child::after {align-self: flex-start;width: 50%;}#sk-container-id-2 div.sk-parallel-item:only-child::after {width: 0;}#sk-container-id-2 div.sk-dashed-wrapped {border: 1px dashed gray;margin: 0 0.4em 0.5em 0.4em;box-sizing: border-box;padding-bottom: 0.4em;background-color: white;}#sk-container-id-2 div.sk-label label {font-family: monospace;font-weight: bold;display: inline-block;line-height: 1.2em;}#sk-container-id-2 div.sk-label-container {text-align: center;}#sk-container-id-2 div.sk-container {/* jupyter's `normalize.less` sets `[hidden] { display: none; }` but bootstrap.min.css set `[hidden] { display: none !important; }` so we also need the `!important` here to be able to override the default hidden behavior on the sphinx rendered scikit-learn.org. See: https://github.com/scikit-learn/scikit-learn/issues/21755 */display: inline-block !important;position: relative;}#sk-container-id-2 div.sk-text-repr-fallback {display: none;}</style><div id=\"sk-container-id-2\" class=\"sk-top-container\"><div class=\"sk-text-repr-fallback\"><pre>LinearRegression()</pre><b>In a Jupyter environment, please rerun this cell to show the HTML representation or trust the notebook. <br />On GitHub, the HTML representation is unable to render, please try loading this page with nbviewer.org.</b></div><div class=\"sk-container\" hidden><div class=\"sk-item\"><div class=\"sk-estimator sk-toggleable\"><input class=\"sk-toggleable__control sk-hidden--visually\" id=\"sk-estimator-id-2\" type=\"checkbox\" checked><label for=\"sk-estimator-id-2\" class=\"sk-toggleable__label sk-toggleable__label-arrow\">LinearRegression</label><div class=\"sk-toggleable__content\"><pre>LinearRegression()</pre></div></div></div></div></div>"
            ]
          },
          "metadata": {},
          "execution_count": 73
        }
      ]
    },
    {
      "cell_type": "code",
      "source": [
        "y_pred = np.exp(lm.predict(test_scaled))\n",
        "\n",
        "r2_lm, rmse_lm = r2_score(y_test.values,y_pred), np.sqrt(mean_squared_error(y_test.values, y_pred))\n",
        "\n",
        "r2_lm, rmse_lm"
      ],
      "metadata": {
        "colab": {
          "base_uri": "https://localhost:8080/"
        },
        "id": "PveLa361oQIm",
        "outputId": "da7c4638-6791-45bb-d7ba-3502bcffbe8a"
      },
      "execution_count": null,
      "outputs": [
        {
          "output_type": "execute_result",
          "data": {
            "text/plain": [
              "(0.7356054121179703, 176476.69000635523)"
            ]
          },
          "metadata": {},
          "execution_count": 74
        }
      ]
    },
    {
      "cell_type": "markdown",
      "source": [
        "## K-NN "
      ],
      "metadata": {
        "id": "r4oG4ecjjEnC"
      }
    },
    {
      "cell_type": "code",
      "source": [
        "from sklearn.neighbors import KNeighborsRegressor\n",
        "\n",
        "knn = KNeighborsRegressor()"
      ],
      "metadata": {
        "id": "jyo4z7wl1mf0"
      },
      "execution_count": null,
      "outputs": []
    },
    {
      "cell_type": "code",
      "source": [
        "param_grid = {'n_neighbors': range(2, 11)}\n",
        "\n",
        "grid_search_knn = GridSearchCV(knn, param_grid, cv=5, scoring='r2')\n",
        "\n",
        "grid_search_knn.fit(x_scaled, log_precios)\n",
        "\n",
        "print(\"Mejor conjunto de parámetros: \", grid_search_knn.best_params_)\n",
        "print(\"Mejor puntuación de validación cruzada: {:.2f}\".format(grid_search_knn.best_score_))"
      ],
      "metadata": {
        "colab": {
          "base_uri": "https://localhost:8080/"
        },
        "id": "gUi1DskD3oh8",
        "outputId": "27f714d2-4179-4c48-c000-851eb27f77ce"
      },
      "execution_count": null,
      "outputs": [
        {
          "output_type": "stream",
          "name": "stdout",
          "text": [
            "Mejor conjunto de parámetros:  {'n_neighbors': 9}\n",
            "Mejor puntuación de validación cruzada: 0.83\n"
          ]
        }
      ]
    },
    {
      "cell_type": "code",
      "source": [
        "%matplotlib inline\n",
        "\n",
        "n_neighbors = [i for i in range(2, 11)]\n",
        "\n",
        "fig, (ax1, ax2) = plt.subplots(ncols=2, figsize=(15, 7))\n",
        "\n",
        "ax1.plot(n_neighbors, grid_search_knn.cv_results_['mean_test_score'], 'ok')\n",
        "ax1.plot(n_neighbors, grid_search_knn.cv_results_['mean_test_score'] + grid_search_knn.cv_results_['std_test_score'], '.m')\n",
        "ax1.plot(n_neighbors, grid_search_knn.cv_results_['mean_test_score'] - grid_search_knn.cv_results_['std_test_score'], '.m')\n",
        "ax1.set_xlabel('Hiperparámetro $n\\_neighbors$')\n",
        "ax1.set_ylabel('r2')\n",
        "ax1.grid(True)\n",
        "\n",
        "ax2.plot(n_neighbors, grid_search_knn.cv_results_['mean_fit_time'], 'ok')\n",
        "ax2.plot(n_neighbors, grid_search_knn.cv_results_['mean_fit_time'] + grid_search_knn.cv_results_['std_fit_time'], '.m')\n",
        "ax2.plot(n_neighbors, grid_search_knn.cv_results_['mean_fit_time'] - grid_search_knn.cv_results_['std_fit_time'], '.m')\n",
        "ax2.set_xlabel('Hiperparámetro $n\\_neighbors$')\n",
        "ax2.set_ylabel('fit_time')\n",
        "ax2.grid(True)"
      ],
      "metadata": {
        "colab": {
          "base_uri": "https://localhost:8080/",
          "height": 623
        },
        "id": "2_myKYdjm1Js",
        "outputId": "4f4e8731-01d4-43d7-e63b-20ea3c6f1f41"
      },
      "execution_count": null,
      "outputs": [
        {
          "output_type": "display_data",
          "data": {
            "text/plain": [
              "<Figure size 1500x700 with 2 Axes>"
            ],
            "image/png": "[encoded data removed]"
          },
          "metadata": {}
        }
      ]
    },
    {
      "cell_type": "markdown",
      "source": [
        "Dado que el *score* es algo superior y el tiempo de entrenamiento apenas varía, nos quedamos con 9 vecinos."
      ],
      "metadata": {
        "id": "LnNpfJIrnWSx"
      }
    },
    {
      "cell_type": "code",
      "source": [
        "knn = KNeighborsRegressor(n_neighbors=9)\n",
        "\n",
        "knn.fit(x_scaled, log_precios)\n",
        "y_pred = np.exp(knn.predict(test_scaled))\n",
        "\n",
        "r2_knn, rmse_knn = r2_score(y_test.values,y_pred), np.sqrt(mean_squared_error(y_test.values, y_pred))\n",
        "\n",
        "r2_knn, rmse_knn"
      ],
      "metadata": {
        "colab": {
          "base_uri": "https://localhost:8080/"
        },
        "id": "XgNm3JiEuI_e",
        "outputId": "3a82a844-a945-4276-979e-623eae6ec87b"
      },
      "execution_count": null,
      "outputs": [
        {
          "output_type": "execute_result",
          "data": {
            "text/plain": [
              "(0.8022753984568948, 152612.96274228822)"
            ]
          },
          "metadata": {},
          "execution_count": 78
        }
      ]
    },
    {
      "cell_type": "markdown",
      "source": [
        "## Árbol de decisión"
      ],
      "metadata": {
        "id": "Znb49-lyjLi-"
      }
    },
    {
      "cell_type": "code",
      "source": [
        "from sklearn.tree import DecisionTreeRegressor\n",
        "\n",
        "arbol = DecisionTreeRegressor()"
      ],
      "metadata": {
        "id": "etuBYuvG4qnl"
      },
      "execution_count": null,
      "outputs": []
    },
    {
      "cell_type": "code",
      "source": [
        "param_grid = {'max_depth': range(4, 15)}\n",
        "\n",
        "grid_search_arbol = GridSearchCV(arbol, param_grid, cv=5, scoring='r2')\n",
        "\n",
        "grid_search_arbol.fit(x_train, log_precios)\n",
        "\n",
        "print(\"Mejor conjunto de parámetros: \", grid_search_arbol.best_params_)\n",
        "print(\"Mejor puntuación de validación cruzada: {:.2f}\".format(grid_search_arbol.best_score_))"
      ],
      "metadata": {
        "colab": {
          "base_uri": "https://localhost:8080/"
        },
        "id": "BoboVIU55JEb",
        "outputId": "3a51f5a3-95a0-4737-da99-862cc15fe901"
      },
      "execution_count": null,
      "outputs": [
        {
          "output_type": "stream",
          "name": "stdout",
          "text": [
            "Mejor conjunto de parámetros:  {'max_depth': 10}\n",
            "Mejor puntuación de validación cruzada: 0.81\n"
          ]
        }
      ]
    },
    {
      "cell_type": "code",
      "source": [
        "depths = [i for i in range(4,15)]\n",
        "\n",
        "fig, (ax1, ax2) = plt.subplots(ncols=2, figsize=(15, 7))\n",
        "\n",
        "ax1.plot(depths, grid_search_arbol.cv_results_['mean_test_score'], 'ok')\n",
        "ax1.plot(depths, grid_search_arbol.cv_results_['mean_test_score'] + grid_search_arbol.cv_results_['std_test_score'], '.m')\n",
        "ax1.plot(depths, grid_search_arbol.cv_results_['mean_test_score'] - grid_search_arbol.cv_results_['std_test_score'], '.m')\n",
        "ax1.set_xlabel('Hiperparámetro $max\\_depth$')\n",
        "ax1.set_ylabel('r2')\n",
        "ax1.grid(True)\n",
        "\n",
        "ax2.plot(depths, grid_search_arbol.cv_results_['mean_fit_time'], 'ok')\n",
        "ax2.plot(depths, grid_search_arbol.cv_results_['mean_fit_time'] + grid_search_arbol.cv_results_['std_fit_time'], '.m')\n",
        "ax2.plot(depths, grid_search_arbol.cv_results_['mean_fit_time'] - grid_search_arbol.cv_results_['std_fit_time'], '.m')\n",
        "ax2.set_xlabel('Hiperparámetro $max\\_depth$')\n",
        "ax2.set_ylabel('fit_time')\n",
        "ax2.grid(True)"
      ],
      "metadata": {
        "colab": {
          "base_uri": "https://localhost:8080/",
          "height": 623
        },
        "id": "Ci0sqBKfEkNR",
        "outputId": "c51d427f-13c2-4430-f9c6-f014f8551252"
      },
      "execution_count": null,
      "outputs": [
        {
          "output_type": "display_data",
          "data": {
            "text/plain": [
              "<Figure size 1500x700 with 2 Axes>"
            ],
            "image/png": "[encoded data removed]"
          },
          "metadata": {}
        }
      ]
    },
    {
      "cell_type": "markdown",
      "source": [
        "Estudiando las evoluciones del *score* y los tiempos de entrenamiento, concluimos que el mejor parámetro es *max_depth* = 9."
      ],
      "metadata": {
        "id": "BDiQuHDiHb-d"
      }
    },
    {
      "cell_type": "code",
      "source": [
        "arbol = DecisionTreeRegressor(max_depth=9)\n",
        "\n",
        "arbol.fit(x_train, log_precios)\n",
        "y_pred = np.exp(arbol.predict(x_test))\n",
        "\n",
        "r2_arbol, rmse_arbol = r2_score(y_test.values,y_pred), np.sqrt(mean_squared_error(y_test.values, y_pred))\n",
        "\n",
        "r2_arbol, rmse_arbol"
      ],
      "metadata": {
        "colab": {
          "base_uri": "https://localhost:8080/"
        },
        "id": "eTwVfUNWF268",
        "outputId": "5557fa09-2207-4a06-e508-3d80d92c2eec"
      },
      "execution_count": null,
      "outputs": [
        {
          "output_type": "execute_result",
          "data": {
            "text/plain": [
              "(0.7511384953908373, 171214.25889869203)"
            ]
          },
          "metadata": {},
          "execution_count": 82
        }
      ]
    },
    {
      "cell_type": "markdown",
      "source": [
        "## Bagging"
      ],
      "metadata": {
        "id": "R5m3Lzi3jLJb"
      }
    },
    {
      "cell_type": "code",
      "source": [
        "from sklearn.ensemble import BaggingRegressor\n",
        "\n",
        "bagging = BaggingRegressor()"
      ],
      "metadata": {
        "id": "x6Kqqzn1CKQJ"
      },
      "execution_count": null,
      "outputs": []
    },
    {
      "cell_type": "code",
      "source": [
        "param_grid = {'n_estimators': [100, 150, 200]}\n",
        "\n",
        "grid_search_bagging = GridSearchCV(bagging, param_grid, cv=5, scoring='r2', n_jobs=-1)\n",
        "\n",
        "grid_search_bagging.fit(x_scaled, log_precios)\n",
        "\n",
        "print(\"Mejor conjunto de parámetros: \", grid_search_bagging.best_params_)\n",
        "print(\"Mejor puntuación de validación cruzada: {:.2f}\".format(grid_search_bagging.best_score_))"
      ],
      "metadata": {
        "colab": {
          "base_uri": "https://localhost:8080/"
        },
        "id": "VSPPDXUuCOo9",
        "outputId": "9eb43d80-4298-4a9a-ecac-a70526e4ce9b"
      },
      "execution_count": null,
      "outputs": [
        {
          "output_type": "stream",
          "name": "stdout",
          "text": [
            "Mejor conjunto de parámetros:  {'n_estimators': 200}\n",
            "Mejor puntuación de validación cruzada: 0.88\n"
          ]
        }
      ]
    },
    {
      "cell_type": "code",
      "source": [
        "n_estimators = [100, 150, 200]\n",
        "\n",
        "fig, (ax1, ax2) = plt.subplots(ncols=2, figsize=(15, 7))\n",
        "\n",
        "ax1.plot(n_estimators, grid_search_bagging.cv_results_['mean_test_score'], 'ok')\n",
        "ax1.plot(n_estimators, grid_search_bagging.cv_results_['mean_test_score'] + grid_search_bagging.cv_results_['std_test_score'], '.m')\n",
        "ax1.plot(n_estimators, grid_search_bagging.cv_results_['mean_test_score'] - grid_search_bagging.cv_results_['std_test_score'], '.m')\n",
        "ax1.set_xlabel('Hiperparámetro $n\\_estimators$')\n",
        "ax1.set_ylabel('r2')\n",
        "ax1.grid(True)\n",
        "\n",
        "ax2.plot(n_estimators, grid_search_bagging.cv_results_['mean_fit_time'], 'ok')\n",
        "ax2.plot(n_estimators, grid_search_bagging.cv_results_['mean_fit_time'] + grid_search_bagging.cv_results_['std_fit_time'], '.m')\n",
        "ax2.plot(n_estimators, grid_search_bagging.cv_results_['mean_fit_time'] - grid_search_bagging.cv_results_['std_fit_time'], '.m')\n",
        "ax2.set_xlabel('Hiperparámetro $n\\_estimators$')\n",
        "ax2.set_ylabel('fit_time')\n",
        "ax2.grid(True)"
      ],
      "metadata": {
        "colab": {
          "base_uri": "https://localhost:8080/",
          "height": 623
        },
        "id": "UusaNp5OIpRN",
        "outputId": "c125240c-4349-4547-e921-cc5b06a42590"
      },
      "execution_count": null,
      "outputs": [
        {
          "output_type": "display_data",
          "data": {
            "text/plain": [
              "<Figure size 1500x700 with 2 Axes>"
            ],
            "image/png": "[encoded data removed]"
          },
          "metadata": {}
        }
      ]
    },
    {
      "cell_type": "markdown",
      "source": [
        "Como el *score* no mejora sustancialmente pero sí aumenta el tiempo de entrenamiento, nos quedamos con 100 estimadores."
      ],
      "metadata": {
        "id": "ahZjXBHhJuRH"
      }
    },
    {
      "cell_type": "code",
      "source": [
        "bagging = BaggingRegressor(n_estimators=100)\n",
        "\n",
        "bagging.fit(x_scaled, log_precios)\n",
        "y_pred = np.exp(bagging.predict(test_scaled))\n",
        "\n",
        "r2_bagging, rmse_bagging = r2_score(y_test.values,y_pred), np.sqrt(mean_squared_error(y_test.values, y_pred))\n",
        "\n",
        "r2_bagging, rmse_bagging"
      ],
      "metadata": {
        "colab": {
          "base_uri": "https://localhost:8080/"
        },
        "id": "xZuS4i-OJ9XM",
        "outputId": "a33906be-d063-42fb-cba7-cfa91f85ca67"
      },
      "execution_count": null,
      "outputs": [
        {
          "output_type": "execute_result",
          "data": {
            "text/plain": [
              "(0.858528930972733, 129090.67946910793)"
            ]
          },
          "metadata": {},
          "execution_count": 86
        }
      ]
    },
    {
      "cell_type": "markdown",
      "source": [
        "## Random Forest"
      ],
      "metadata": {
        "id": "WQIDNoeqjQAl"
      }
    },
    {
      "cell_type": "code",
      "source": [
        "from sklearn.ensemble import RandomForestRegressor\n",
        "\n",
        "bosque = RandomForestRegressor()"
      ],
      "metadata": {
        "id": "R3lRmo-e5sqL"
      },
      "execution_count": null,
      "outputs": []
    },
    {
      "cell_type": "code",
      "source": [
        "param_grid = {'max_depth': range(12, 17)}\n",
        "# Anteriormente se ha probado con distintos valores de n_estimators\n",
        "\n",
        "grid_search_bosque = GridSearchCV(bosque, param_grid, cv=5, scoring='r2', n_jobs=-1)\n",
        "\n",
        "grid_search_bosque.fit(x_train, log_precios)\n",
        "\n",
        "print(\"Mejor conjunto de parámetros: \", grid_search_bosque.best_params_)\n",
        "print(\"Mejor puntuación de validación cruzada: {:.2f}\".format(grid_search_bosque.best_score_))"
      ],
      "metadata": {
        "colab": {
          "base_uri": "https://localhost:8080/"
        },
        "id": "BmBhKG4J5yz3",
        "outputId": "139c0414-6517-4be7-de2d-1c8220606e10"
      },
      "execution_count": 103,
      "outputs": [
        {
          "output_type": "stream",
          "name": "stdout",
          "text": [
            "Mejor conjunto de parámetros:  {'max_depth': 16}\n",
            "Mejor puntuación de validación cruzada: 0.88\n"
          ]
        }
      ]
    },
    {
      "cell_type": "code",
      "source": [
        "max_depth = [i for i in range(12,17)]\n",
        "\n",
        "fig, (ax1, ax2) = plt.subplots(ncols=2, figsize=(15, 7))\n",
        "\n",
        "ax1.plot(max_depth, grid_search_bosque.cv_results_['mean_test_score'], 'ok')\n",
        "ax1.plot(max_depth, grid_search_bosque.cv_results_['mean_test_score'] + grid_search_bosque.cv_results_['std_test_score'], '.m')\n",
        "ax1.plot(max_depth, grid_search_bosque.cv_results_['mean_test_score'] - grid_search_bosque.cv_results_['std_test_score'], '.m')\n",
        "ax1.set_xlabel('Hiperparámetro $max\\_depth$')\n",
        "ax1.set_ylabel('r2')\n",
        "ax1.grid(True)\n",
        "\n",
        "ax2.plot(max_depth, grid_search_bosque.cv_results_['mean_fit_time'], 'ok')\n",
        "ax2.plot(max_depth, grid_search_bosque.cv_results_['mean_fit_time'] + grid_search_bosque.cv_results_['std_fit_time'], '.m')\n",
        "ax2.plot(max_depth, grid_search_bosque.cv_results_['mean_fit_time'] - grid_search_bosque.cv_results_['std_fit_time'], '.m')\n",
        "ax2.set_xlabel('Hiperparámetro $max\\_depth$')\n",
        "ax2.set_ylabel('fit_time')\n",
        "ax2.grid(True)"
      ],
      "metadata": {
        "colab": {
          "base_uri": "https://localhost:8080/",
          "height": 623
        },
        "id": "IwoeDaz_M6Js",
        "outputId": "5401f815-f58d-4b27-f96a-aa24eceaf340"
      },
      "execution_count": 105,
      "outputs": [
        {
          "output_type": "display_data",
          "data": {
            "text/plain": [
              "<Figure size 1500x700 with 2 Axes>"
            ],
            "image/png": "[encoded data removed]"
          },
          "metadata": {}
        }
      ]
    },
    {
      "cell_type": "markdown",
      "source": [
        "Evaluando de forma conjunta el *score* y los tiempos de entrenamiento, la selección de hiperparámetros óptima parece *max_depth*=14."
      ],
      "metadata": {
        "id": "dpjTDccAl_9y"
      }
    },
    {
      "cell_type": "code",
      "source": [
        "bosque = RandomForestRegressor(max_depth=14)\n",
        "\n",
        "bosque.fit(x_train, log_precios)\n",
        "y_pred = np.exp(bosque.predict(x_test))\n",
        "\n",
        "r2_bosque, rmse_bosque = r2_score(y_test.values,y_pred), np.sqrt(mean_squared_error(y_test.values, y_pred))\n",
        "\n",
        "r2_bosque, rmse_bosque"
      ],
      "metadata": {
        "colab": {
          "base_uri": "https://localhost:8080/"
        },
        "id": "zsdV6c8QmLp9",
        "outputId": "4444c913-b94f-4255-a78a-79a626332bdf"
      },
      "execution_count": 106,
      "outputs": [
        {
          "output_type": "execute_result",
          "data": {
            "text/plain": [
              "(0.8519345265542182, 132065.0709118856)"
            ]
          },
          "metadata": {},
          "execution_count": 106
        }
      ]
    },
    {
      "cell_type": "markdown",
      "source": [
        "## Gradient Boost"
      ],
      "metadata": {
        "id": "sNtvVABdjSNr"
      }
    },
    {
      "cell_type": "markdown",
      "source": [
        "Se empleará *HistGradientBoostingRegressor*, que es más rápido que el normal a partir del 10.000 datos."
      ],
      "metadata": {
        "id": "igGPAqdLhjve"
      }
    },
    {
      "cell_type": "code",
      "source": [
        "from sklearn.ensemble import HistGradientBoostingRegressor\n",
        "\n",
        "gradient_boost = HistGradientBoostingRegressor() "
      ],
      "metadata": {
        "id": "Sq4Pq4pC9E08"
      },
      "execution_count": null,
      "outputs": []
    },
    {
      "cell_type": "code",
      "source": [
        "param_grid = {'max_depth': range(6, 15)}\n",
        "\n",
        "grid_search_gradientboost = GridSearchCV(gradient_boost, param_grid, cv=5, scoring='r2', n_jobs=-1)\n",
        "\n",
        "grid_search_gradientboost.fit(x_scaled, log_precios)\n",
        "\n",
        "print(\"Mejor conjunto de parámetros: \", grid_search_gradientboost.best_params_)\n",
        "print(\"Mejor puntuación de validación cruzada: {:.2f}\".format(grid_search_gradientboost.best_score_))"
      ],
      "metadata": {
        "colab": {
          "base_uri": "https://localhost:8080/"
        },
        "id": "u8D73XO29QCd",
        "outputId": "cd61af70-7162-4f8c-bdaf-680e625fe296"
      },
      "execution_count": null,
      "outputs": [
        {
          "output_type": "stream",
          "name": "stdout",
          "text": [
            "Mejor conjunto de parámetros:  {'max_depth': 12}\n",
            "Mejor puntuación de validación cruzada: 0.89\n"
          ]
        }
      ]
    },
    {
      "cell_type": "code",
      "source": [
        "depths = [i for i in range(6,15)]\n",
        "\n",
        "fig, (ax1, ax2) = plt.subplots(ncols=2, figsize=(15, 7))\n",
        "\n",
        "ax1.plot(depths, grid_search_gradientboost.cv_results_['mean_test_score'], 'ok')\n",
        "ax1.plot(depths, grid_search_gradientboost.cv_results_['mean_test_score'] + grid_search_gradientboost.cv_results_['std_test_score'], '.m')\n",
        "ax1.plot(depths, grid_search_gradientboost.cv_results_['mean_test_score'] - grid_search_gradientboost.cv_results_['std_test_score'], '.m')\n",
        "ax1.set_xlabel('Hiperparámetro $max\\_depth$')\n",
        "ax1.set_ylabel('r2')\n",
        "ax1.grid(True)\n",
        "\n",
        "ax2.plot(depths, grid_search_gradientboost.cv_results_['mean_fit_time'], 'ok')\n",
        "ax2.plot(depths, grid_search_gradientboost.cv_results_['mean_fit_time'] + grid_search_gradientboost.cv_results_['std_fit_time'], '.m')\n",
        "ax2.plot(depths, grid_search_gradientboost.cv_results_['mean_fit_time'] - grid_search_gradientboost.cv_results_['std_fit_time'], '.m')\n",
        "ax2.set_xlabel('Hiperparámetro $max\\_depth$')\n",
        "ax2.set_ylabel('fit_time')\n",
        "ax2.grid(True)"
      ],
      "metadata": {
        "colab": {
          "base_uri": "https://localhost:8080/",
          "height": 623
        },
        "id": "-HsDqrjR-5u_",
        "outputId": "546aa005-5a21-449e-95c4-1a008b563e61"
      },
      "execution_count": null,
      "outputs": [
        {
          "output_type": "display_data",
          "data": {
            "text/plain": [
              "<Figure size 1500x700 with 2 Axes>"
            ],
            "image/png": "[encoded data removed]"
          },
          "metadata": {}
        }
      ]
    },
    {
      "cell_type": "markdown",
      "source": [
        "Nos quedamos con el hiperparámetro *max_depth* = 10, ya que obtiene buenos resultados y parece más estable en los tiempos de entrenamiento."
      ],
      "metadata": {
        "id": "0kqI_ELbYTup"
      }
    },
    {
      "cell_type": "code",
      "source": [
        "gradient_boost = HistGradientBoostingRegressor(max_depth=10)\n",
        "\n",
        "gradient_boost.fit(x_scaled, log_precios)\n",
        "y_pred = np.exp(gradient_boost.predict(test_scaled))\n",
        "\n",
        "r2_gradient_boost, rmse_gradient_boost = r2_score(y_test.values,y_pred), np.sqrt(mean_squared_error(y_test.values, y_pred))\n",
        "\n",
        "r2_gradient_boost, rmse_gradient_boost"
      ],
      "metadata": {
        "colab": {
          "base_uri": "https://localhost:8080/"
        },
        "id": "mZ77OBqgYdi0",
        "outputId": "d5f7f906-8448-4766-fd80-639f4e74584a"
      },
      "execution_count": 107,
      "outputs": [
        {
          "output_type": "execute_result",
          "data": {
            "text/plain": [
              "(0.8927268698462245, 112410.41358188665)"
            ]
          },
          "metadata": {},
          "execution_count": 107
        }
      ]
    },
    {
      "cell_type": "markdown",
      "source": [
        "## XGBoost"
      ],
      "metadata": {
        "id": "vESbN9sUjVg9"
      }
    },
    {
      "cell_type": "code",
      "source": [
        "# !pip install xgboost"
      ],
      "metadata": {
        "id": "dml2YZO3_Zds"
      },
      "execution_count": null,
      "outputs": []
    },
    {
      "cell_type": "code",
      "source": [
        "import xgboost as xgb\n",
        "\n",
        "dtrain = xgb.DMatrix(x_train, label=log_precios)\n",
        "dtest = xgb.DMatrix(x_test, label=y_test)\n",
        "\n",
        "xgboost = xgb.XGBRegressor()"
      ],
      "metadata": {
        "id": "qhB1fY8z_chU"
      },
      "execution_count": null,
      "outputs": []
    },
    {
      "cell_type": "code",
      "source": [
        "param_grid = {'n_estimators': [50, 100, 150], 'max_depth': range(5,10)}\n",
        "\n",
        "grid_search_xgboost = GridSearchCV(xgboost, param_grid, cv=5, scoring='r2', n_jobs=-1)\n",
        "\n",
        "grid_search_xgboost.fit(x_train, log_precios)\n",
        "\n",
        "print(\"Mejor conjunto de parámetros: \", grid_search_xgboost.best_params_)\n",
        "print(\"Mejor puntuación de validación cruzada: {:.2f}\".format(grid_search_xgboost.best_score_))"
      ],
      "metadata": {
        "colab": {
          "base_uri": "https://localhost:8080/"
        },
        "id": "K50plpZu_nT3",
        "outputId": "f8306ce4-bb14-4068-b97f-9d87b11e46a8"
      },
      "execution_count": null,
      "outputs": [
        {
          "output_type": "stream",
          "name": "stdout",
          "text": [
            "Mejor conjunto de parámetros:  {'max_depth': 6, 'n_estimators': 100}\n",
            "Mejor puntuación de validación cruzada: 0.89\n"
          ]
        }
      ]
    },
    {
      "cell_type": "code",
      "source": [
        "max_depth = [i for i in range(5,10)]\n",
        "i50 = [3*i for i in range(5)]\n",
        "i100 = [3*i+1 for i in range(5)]\n",
        "i150 = [3*i+2 for i in range(5)]\n",
        "\n",
        "fig, (ax1, ax2) = plt.subplots(ncols=2, figsize=(15, 7))\n",
        "\n",
        "ax1.plot(max_depth, grid_search_xgboost.cv_results_['mean_test_score'][i50], 'ok', color='blue', label='n_estimators = 50')\n",
        "ax1.plot(max_depth, grid_search_xgboost.cv_results_['mean_test_score'][i100], 'ok' , color='green', label='n_estimators = 100')\n",
        "ax1.plot(max_depth, grid_search_xgboost.cv_results_['mean_test_score'][i150], 'ok', color='red', label='n_estimators = 150')\n",
        "ax1.set_xlabel('Hiperparámetro $n\\_estimators$')\n",
        "ax1.set_ylabel('r2')\n",
        "ax1.grid(True)\n",
        "ax1.legend()\n",
        "\n",
        "ax2.plot(max_depth, grid_search_xgboost.cv_results_['mean_fit_time'][i50], 'ok', color='blue', label='n_estimators = 50')\n",
        "ax2.plot(max_depth, grid_search_xgboost.cv_results_['mean_fit_time'][i100], 'ok', color='green', label='n_estimators = 100')\n",
        "ax2.plot(max_depth, grid_search_xgboost.cv_results_['mean_fit_time'][i150], 'ok', color='red', label='n_estimators = 150')\n",
        "ax2.set_xlabel('Hiperparámetro $n\\_estimators$')\n",
        "ax2.set_ylabel('fit_time')\n",
        "ax2.grid(True)\n",
        "ax2.legend()"
      ],
      "metadata": {
        "colab": {
          "base_uri": "https://localhost:8080/",
          "height": 869
        },
        "id": "AguBPZVZCDje",
        "outputId": "097c5440-6768-48ff-e674-4aa800a7d92e"
      },
      "execution_count": null,
      "outputs": [
        {
          "output_type": "stream",
          "name": "stderr",
          "text": [
            "<ipython-input-98-4f7fcd1acceb>:8: UserWarning: color is redundantly defined by the 'color' keyword argument and the fmt string \"ok\" (-> color='k'). The keyword argument will take precedence.\n",
            "  ax1.plot(max_depth, grid_search_xgboost.cv_results_['mean_test_score'][i50], 'ok', color='blue', label='n_estimators = 50')\n",
            "<ipython-input-98-4f7fcd1acceb>:9: UserWarning: color is redundantly defined by the 'color' keyword argument and the fmt string \"ok\" (-> color='k'). The keyword argument will take precedence.\n",
            "  ax1.plot(max_depth, grid_search_xgboost.cv_results_['mean_test_score'][i100], 'ok' , color='green', label='n_estimators = 100')\n",
            "<ipython-input-98-4f7fcd1acceb>:10: UserWarning: color is redundantly defined by the 'color' keyword argument and the fmt string \"ok\" (-> color='k'). The keyword argument will take precedence.\n",
            "  ax1.plot(max_depth, grid_search_xgboost.cv_results_['mean_test_score'][i150], 'ok', color='red', label='n_estimators = 150')\n",
            "<ipython-input-98-4f7fcd1acceb>:16: UserWarning: color is redundantly defined by the 'color' keyword argument and the fmt string \"ok\" (-> color='k'). The keyword argument will take precedence.\n",
            "  ax2.plot(max_depth, grid_search_xgboost.cv_results_['mean_fit_time'][i50], 'ok', color='blue', label='n_estimators = 50')\n",
            "<ipython-input-98-4f7fcd1acceb>:17: UserWarning: color is redundantly defined by the 'color' keyword argument and the fmt string \"ok\" (-> color='k'). The keyword argument will take precedence.\n",
            "  ax2.plot(max_depth, grid_search_xgboost.cv_results_['mean_fit_time'][i100], 'ok', color='green', label='n_estimators = 100')\n",
            "<ipython-input-98-4f7fcd1acceb>:18: UserWarning: color is redundantly defined by the 'color' keyword argument and the fmt string \"ok\" (-> color='k'). The keyword argument will take precedence.\n",
            "  ax2.plot(max_depth, grid_search_xgboost.cv_results_['mean_fit_time'][i150], 'ok', color='red', label='n_estimators = 150')\n"
          ]
        },
        {
          "output_type": "execute_result",
          "data": {
            "text/plain": [
              "<matplotlib.legend.Legend at 0x7f59ca1304f0>"
            ]
          },
          "metadata": {},
          "execution_count": 98
        },
        {
          "output_type": "display_data",
          "data": {
            "text/plain": [
              "<Figure size 1500x700 with 2 Axes>"
            ],
            "image/png": "[encoded data removed]"
          },
          "metadata": {}
        }
      ]
    },
    {
      "cell_type": "markdown",
      "source": [
        "Observando los gráficos, el mejor resultado se obtiene con *max_depth* = 6 y *n_estimators* = 100, que además tiene uno de los tiempos de entrenamiento más bajos, por lo que escogemos esta selección de hiperparámetros."
      ],
      "metadata": {
        "id": "nCS9tVjLe0PO"
      }
    },
    {
      "cell_type": "code",
      "source": [
        "from xgboost.sklearn import XGBRegressor\n",
        "xgboost.fit(x_train, log_precios)\n",
        "y_pred = np.exp(xgboost.predict(x_test))\n",
        "\n",
        "r2_xgboost, rmse_xgboost = r2_score(y_test.values,y_pred), np.sqrt(mean_squared_error(y_test.values, y_pred))\n",
        "\n",
        "r2_xgboost, rmse_xgboost"
      ],
      "metadata": {
        "colab": {
          "base_uri": "https://localhost:8080/"
        },
        "id": "a55bdUQDfCsh",
        "outputId": "c702c4ae-6102-4aea-a62f-3a77c11965f5"
      },
      "execution_count": null,
      "outputs": [
        {
          "output_type": "execute_result",
          "data": {
            "text/plain": [
              "(0.8791830391858177, 119295.76388673858)"
            ]
          },
          "metadata": {},
          "execution_count": 99
        }
      ]
    },
    {
      "cell_type": "markdown",
      "source": [
        "# Comparación de algoritmos"
      ],
      "metadata": {
        "id": "D8X8ZKHwu0PA"
      }
    },
    {
      "cell_type": "code",
      "source": [
        "metricas = pd.DataFrame(columns = ['r2', 'RMSE'], \n",
        "                        index=['Regresion_Lineal', 'KNN', 'Arbol_Regresor', 'Bagging', 'Random_Forest', 'Gradient_Boost', 'XGBoost'])\n",
        "\n",
        "metricas.loc['Regresion_Lineal'] = [r2_lm, rmse_lm]\n",
        "metricas.loc['KNN'] = [r2_knn, rmse_knn]\n",
        "metricas.loc['Arbol_Regresor'] = [r2_arbol, rmse_arbol]\n",
        "metricas.loc['Bagging'] = [r2_bagging, rmse_bagging]\n",
        "metricas.loc['Random_Forest'] = [r2_bosque, rmse_bosque]\n",
        "metricas.loc['Gradient_Boost'] = [r2_gradient_boost, rmse_gradient_boost]\n",
        "metricas.loc['XGBoost'] = [r2_xgboost, rmse_xgboost]\n",
        "\n",
        "metricas"
      ],
      "metadata": {
        "colab": {
          "base_uri": "https://localhost:8080/",
          "height": 269
        },
        "id": "dd2cBthsyQYb",
        "outputId": "8a856607-4ca0-43bf-814b-0dfa0ca7039d"
      },
      "execution_count": 108,
      "outputs": [
        {
          "output_type": "execute_result",
          "data": {
            "text/plain": [
              "                        r2           RMSE\n",
              "Regresion_Lineal  0.735605  176476.690006\n",
              "KNN               0.802275  152612.962742\n",
              "Arbol_Regresor    0.751138  171214.258899\n",
              "Bagging           0.858529  129090.679469\n",
              "Random_Forest     0.851935  132065.070912\n",
              "Gradient_Boost    0.892727  112410.413582\n",
              "XGBoost           0.879183  119295.763887"
            ],
            "text/html": [
              "\n",
              "  <div id=\"df-a881f201-583c-48ac-ae10-989194713021\">\n",
              "    <div class=\"colab-df-container\">\n",
              "      <div>\n",
              "<style scoped>\n",
              "    .dataframe tbody tr th:only-of-type {\n",
              "        vertical-align: middle;\n",
              "    }\n",
              "\n",
              "    .dataframe tbody tr th {\n",
              "        vertical-align: top;\n",
              "    }\n",
              "\n",
              "    .dataframe thead th {\n",
              "        text-align: right;\n",
              "    }\n",
              "</style>\n",
              "<table border=\"1\" class=\"dataframe\">\n",
              "  <thead>\n",
              "    <tr style=\"text-align: right;\">\n",
              "      <th></th>\n",
              "      <th>r2</th>\n",
              "      <th>RMSE</th>\n",
              "    </tr>\n",
              "  </thead>\n",
              "  <tbody>\n",
              "    <tr>\n",
              "      <th>Regresion_Lineal</th>\n",
              "      <td>0.735605</td>\n",
              "      <td>176476.690006</td>\n",
              "    </tr>\n",
              "    <tr>\n",
              "      <th>KNN</th>\n",
              "      <td>0.802275</td>\n",
              "      <td>152612.962742</td>\n",
              "    </tr>\n",
              "    <tr>\n",
              "      <th>Arbol_Regresor</th>\n",
              "      <td>0.751138</td>\n",
              "      <td>171214.258899</td>\n",
              "    </tr>\n",
              "    <tr>\n",
              "      <th>Bagging</th>\n",
              "      <td>0.858529</td>\n",
              "      <td>129090.679469</td>\n",
              "    </tr>\n",
              "    <tr>\n",
              "      <th>Random_Forest</th>\n",
              "      <td>0.851935</td>\n",
              "      <td>132065.070912</td>\n",
              "    </tr>\n",
              "    <tr>\n",
              "      <th>Gradient_Boost</th>\n",
              "      <td>0.892727</td>\n",
              "      <td>112410.413582</td>\n",
              "    </tr>\n",
              "    <tr>\n",
              "      <th>XGBoost</th>\n",
              "      <td>0.879183</td>\n",
              "      <td>119295.763887</td>\n",
              "    </tr>\n",
              "  </tbody>\n",
              "</table>\n",
              "</div>\n",
              "      <button class=\"colab-df-convert\" onclick=\"convertToInteractive('df-a881f201-583c-48ac-ae10-989194713021')\"\n",
              "              title=\"Convert this dataframe to an interactive table.\"\n",
              "              style=\"display:none;\">\n",
              "        \n",
              "  <svg xmlns=\"http://www.w3.org/2000/svg\" height=\"24px\"viewBox=\"0 0 24 24\"\n",
              "       width=\"24px\">\n",
              "    <path d=\"M0 0h24v24H0V0z\" fill=\"none\"/>\n",
              "    <path d=\"M18.56 5.44l.94 2.06.94-2.06 2.06-.94-2.06-.94-.94-2.06-.94 2.06-2.06.94zm-11 1L8.5 8.5l.94-2.06 2.06-.94-2.06-.94L8.5 2.5l-.94 2.06-2.06.94zm10 10l.94 2.06.94-2.06 2.06-.94-2.06-.94-.94-2.06-.94 2.06-2.06.94z\"/><path d=\"M17.41 7.96l-1.37-1.37c-.4-.4-.92-.59-1.43-.59-.52 0-1.04.2-1.43.59L10.3 9.45l-7.72 7.72c-.78.78-.78 2.05 0 2.83L4 21.41c.39.39.9.59 1.41.59.51 0 1.02-.2 1.41-.59l7.78-7.78 2.81-2.81c.8-.78.8-2.07 0-2.86zM5.41 20L4 18.59l7.72-7.72 1.47 1.35L5.41 20z\"/>\n",
              "  </svg>\n",
              "      </button>\n",
              "      \n",
              "  <style>\n",
              "    .colab-df-container {\n",
              "      display:flex;\n",
              "      flex-wrap:wrap;\n",
              "      gap: 12px;\n",
              "    }\n",
              "\n",
              "    .colab-df-convert {\n",
              "      background-color: #E8F0FE;\n",
              "      border: none;\n",
              "      border-radius: 50%;\n",
              "      cursor: pointer;\n",
              "      display: none;\n",
              "      fill: #1967D2;\n",
              "      height: 32px;\n",
              "      padding: 0 0 0 0;\n",
              "      width: 32px;\n",
              "    }\n",
              "\n",
              "    .colab-df-convert:hover {\n",
              "      background-color: #E2EBFA;\n",
              "      box-shadow: 0px 1px 2px rgba(60, 64, 67, 0.3), 0px 1px 3px 1px rgba(60, 64, 67, 0.15);\n",
              "      fill: #174EA6;\n",
              "    }\n",
              "\n",
              "    [theme=dark] .colab-df-convert {\n",
              "      background-color: #3B4455;\n",
              "      fill: #D2E3FC;\n",
              "    }\n",
              "\n",
              "    [theme=dark] .colab-df-convert:hover {\n",
              "      background-color: #434B5C;\n",
              "      box-shadow: 0px 1px 3px 1px rgba(0, 0, 0, 0.15);\n",
              "      filter: drop-shadow(0px 1px 2px rgba(0, 0, 0, 0.3));\n",
              "      fill: #FFFFFF;\n",
              "    }\n",
              "  </style>\n",
              "\n",
              "      <script>\n",
              "        const buttonEl =\n",
              "          document.querySelector('#df-a881f201-583c-48ac-ae10-989194713021 button.colab-df-convert');\n",
              "        buttonEl.style.display =\n",
              "          google.colab.kernel.accessAllowed ? 'block' : 'none';\n",
              "\n",
              "        async function convertToInteractive(key) {\n",
              "          const element = document.querySelector('#df-a881f201-583c-48ac-ae10-989194713021');\n",
              "          const dataTable =\n",
              "            await google.colab.kernel.invokeFunction('convertToInteractive',\n",
              "                                                     [key], {});\n",
              "          if (!dataTable) return;\n",
              "\n",
              "          const docLinkHtml = 'Like what you see? Visit the ' +\n",
              "            '<a target=\"_blank\" href=https://colab.research.google.com/notebooks/data_table.ipynb>data table notebook</a>'\n",
              "            + ' to learn more about interactive tables.';\n",
              "          element.innerHTML = '';\n",
              "          dataTable['output_type'] = 'display_data';\n",
              "          await google.colab.output.renderOutput(dataTable, element);\n",
              "          const docLink = document.createElement('div');\n",
              "          docLink.innerHTML = docLinkHtml;\n",
              "          element.appendChild(docLink);\n",
              "        }\n",
              "      </script>\n",
              "    </div>\n",
              "  </div>\n",
              "  "
            ]
          },
          "metadata": {},
          "execution_count": 108
        }
      ]
    },
    {
      "cell_type": "code",
      "source": [
        "metricas.sort_values(by='r2', ascending=False)"
      ],
      "metadata": {
        "colab": {
          "base_uri": "https://localhost:8080/",
          "height": 269
        },
        "id": "ZBlPBLs2z6i2",
        "outputId": "5c3c48bc-8b97-4278-9264-da2a505d31ed"
      },
      "execution_count": 109,
      "outputs": [
        {
          "output_type": "execute_result",
          "data": {
            "text/plain": [
              "                        r2           RMSE\n",
              "Gradient_Boost    0.892727  112410.413582\n",
              "XGBoost           0.879183  119295.763887\n",
              "Bagging           0.858529  129090.679469\n",
              "Random_Forest     0.851935  132065.070912\n",
              "KNN               0.802275  152612.962742\n",
              "Arbol_Regresor    0.751138  171214.258899\n",
              "Regresion_Lineal  0.735605  176476.690006"
            ],
            "text/html": [
              "\n",
              "  <div id=\"df-b0822010-89b2-443c-b270-97b41f170d88\">\n",
              "    <div class=\"colab-df-container\">\n",
              "      <div>\n",
              "<style scoped>\n",
              "    .dataframe tbody tr th:only-of-type {\n",
              "        vertical-align: middle;\n",
              "    }\n",
              "\n",
              "    .dataframe tbody tr th {\n",
              "        vertical-align: top;\n",
              "    }\n",
              "\n",
              "    .dataframe thead th {\n",
              "        text-align: right;\n",
              "    }\n",
              "</style>\n",
              "<table border=\"1\" class=\"dataframe\">\n",
              "  <thead>\n",
              "    <tr style=\"text-align: right;\">\n",
              "      <th></th>\n",
              "      <th>r2</th>\n",
              "      <th>RMSE</th>\n",
              "    </tr>\n",
              "  </thead>\n",
              "  <tbody>\n",
              "    <tr>\n",
              "      <th>Gradient_Boost</th>\n",
              "      <td>0.892727</td>\n",
              "      <td>112410.413582</td>\n",
              "    </tr>\n",
              "    <tr>\n",
              "      <th>XGBoost</th>\n",
              "      <td>0.879183</td>\n",
              "      <td>119295.763887</td>\n",
              "    </tr>\n",
              "    <tr>\n",
              "      <th>Bagging</th>\n",
              "      <td>0.858529</td>\n",
              "      <td>129090.679469</td>\n",
              "    </tr>\n",
              "    <tr>\n",
              "      <th>Random_Forest</th>\n",
              "      <td>0.851935</td>\n",
              "      <td>132065.070912</td>\n",
              "    </tr>\n",
              "    <tr>\n",
              "      <th>KNN</th>\n",
              "      <td>0.802275</td>\n",
              "      <td>152612.962742</td>\n",
              "    </tr>\n",
              "    <tr>\n",
              "      <th>Arbol_Regresor</th>\n",
              "      <td>0.751138</td>\n",
              "      <td>171214.258899</td>\n",
              "    </tr>\n",
              "    <tr>\n",
              "      <th>Regresion_Lineal</th>\n",
              "      <td>0.735605</td>\n",
              "      <td>176476.690006</td>\n",
              "    </tr>\n",
              "  </tbody>\n",
              "</table>\n",
              "</div>\n",
              "      <button class=\"colab-df-convert\" onclick=\"convertToInteractive('df-b0822010-89b2-443c-b270-97b41f170d88')\"\n",
              "              title=\"Convert this dataframe to an interactive table.\"\n",
              "              style=\"display:none;\">\n",
              "        \n",
              "  <svg xmlns=\"http://www.w3.org/2000/svg\" height=\"24px\"viewBox=\"0 0 24 24\"\n",
              "       width=\"24px\">\n",
              "    <path d=\"M0 0h24v24H0V0z\" fill=\"none\"/>\n",
              "    <path d=\"M18.56 5.44l.94 2.06.94-2.06 2.06-.94-2.06-.94-.94-2.06-.94 2.06-2.06.94zm-11 1L8.5 8.5l.94-2.06 2.06-.94-2.06-.94L8.5 2.5l-.94 2.06-2.06.94zm10 10l.94 2.06.94-2.06 2.06-.94-2.06-.94-.94-2.06-.94 2.06-2.06.94z\"/><path d=\"M17.41 7.96l-1.37-1.37c-.4-.4-.92-.59-1.43-.59-.52 0-1.04.2-1.43.59L10.3 9.45l-7.72 7.72c-.78.78-.78 2.05 0 2.83L4 21.41c.39.39.9.59 1.41.59.51 0 1.02-.2 1.41-.59l7.78-7.78 2.81-2.81c.8-.78.8-2.07 0-2.86zM5.41 20L4 18.59l7.72-7.72 1.47 1.35L5.41 20z\"/>\n",
              "  </svg>\n",
              "      </button>\n",
              "      \n",
              "  <style>\n",
              "    .colab-df-container {\n",
              "      display:flex;\n",
              "      flex-wrap:wrap;\n",
              "      gap: 12px;\n",
              "    }\n",
              "\n",
              "    .colab-df-convert {\n",
              "      background-color: #E8F0FE;\n",
              "      border: none;\n",
              "      border-radius: 50%;\n",
              "      cursor: pointer;\n",
              "      display: none;\n",
              "      fill: #1967D2;\n",
              "      height: 32px;\n",
              "      padding: 0 0 0 0;\n",
              "      width: 32px;\n",
              "    }\n",
              "\n",
              "    .colab-df-convert:hover {\n",
              "      background-color: #E2EBFA;\n",
              "      box-shadow: 0px 1px 2px rgba(60, 64, 67, 0.3), 0px 1px 3px 1px rgba(60, 64, 67, 0.15);\n",
              "      fill: #174EA6;\n",
              "    }\n",
              "\n",
              "    [theme=dark] .colab-df-convert {\n",
              "      background-color: #3B4455;\n",
              "      fill: #D2E3FC;\n",
              "    }\n",
              "\n",
              "    [theme=dark] .colab-df-convert:hover {\n",
              "      background-color: #434B5C;\n",
              "      box-shadow: 0px 1px 3px 1px rgba(0, 0, 0, 0.15);\n",
              "      filter: drop-shadow(0px 1px 2px rgba(0, 0, 0, 0.3));\n",
              "      fill: #FFFFFF;\n",
              "    }\n",
              "  </style>\n",
              "\n",
              "      <script>\n",
              "        const buttonEl =\n",
              "          document.querySelector('#df-b0822010-89b2-443c-b270-97b41f170d88 button.colab-df-convert');\n",
              "        buttonEl.style.display =\n",
              "          google.colab.kernel.accessAllowed ? 'block' : 'none';\n",
              "\n",
              "        async function convertToInteractive(key) {\n",
              "          const element = document.querySelector('#df-b0822010-89b2-443c-b270-97b41f170d88');\n",
              "          const dataTable =\n",
              "            await google.colab.kernel.invokeFunction('convertToInteractive',\n",
              "                                                     [key], {});\n",
              "          if (!dataTable) return;\n",
              "\n",
              "          const docLinkHtml = 'Like what you see? Visit the ' +\n",
              "            '<a target=\"_blank\" href=https://colab.research.google.com/notebooks/data_table.ipynb>data table notebook</a>'\n",
              "            + ' to learn more about interactive tables.';\n",
              "          element.innerHTML = '';\n",
              "          dataTable['output_type'] = 'display_data';\n",
              "          await google.colab.output.renderOutput(dataTable, element);\n",
              "          const docLink = document.createElement('div');\n",
              "          docLink.innerHTML = docLinkHtml;\n",
              "          element.appendChild(docLink);\n",
              "        }\n",
              "      </script>\n",
              "    </div>\n",
              "  </div>\n",
              "  "
            ]
          },
          "metadata": {},
          "execution_count": 109
        }
      ]
    },
    {
      "cell_type": "markdown",
      "source": [
        "Los valores de *RMSE* están también en orden, es decir, no hay diferencia entre usar una métrica u otra para compararlos."
      ],
      "metadata": {
        "id": "mLaPuwDm0h4N"
      }
    },
    {
      "cell_type": "markdown",
      "source": [
        "# Importancia de las variables"
      ],
      "metadata": {
        "id": "a7Zae-Ku1e7z"
      }
    },
    {
      "cell_type": "code",
      "source": [
        "importancias = bosque.feature_importances_\n",
        "std = np.std([tree.feature_importances_ for tree in bosque.estimators_], axis=0)\n",
        "importancias_bosque = pd.Series(importancias, index=x_train.columns)\n",
        "\n",
        "fig, ax = plt.subplots()\n",
        "importancias_bosque.plot.bar(yerr=std, ax=ax)\n",
        "ax.set_title(\"Importancias de cada variable\")\n",
        "ax.set_ylabel(\"Decrecimiento medio en impureza\")\n",
        "fig.tight_layout()"
      ],
      "metadata": {
        "colab": {
          "base_uri": "https://localhost:8080/",
          "height": 487
        },
        "id": "RuiliWSO1ePV",
        "outputId": "5ad41b53-3496-461e-bac2-ea9db4fc596a"
      },
      "execution_count": 110,
      "outputs": [
        {
          "output_type": "display_data",
          "data": {
            "text/plain": [
              "<Figure size 640x480 with 1 Axes>"
            ],
            "image/png": "[encoded data removed]"
          },
          "metadata": {}
        }
      ]
    }
  ]
}